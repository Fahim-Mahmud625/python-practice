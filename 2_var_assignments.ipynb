{
 "cells": [
  {
   "cell_type": "code",
   "id": "initial_id",
   "metadata": {
    "collapsed": true,
    "ExecuteTime": {
     "end_time": "2024-12-10T13:40:23.445022Z",
     "start_time": "2024-12-10T13:40:23.440179Z"
    }
   },
   "source": "a = 5",
   "outputs": [],
   "execution_count": 1
  },
  {
   "metadata": {
    "ExecuteTime": {
     "end_time": "2024-12-10T13:40:27.344267Z",
     "start_time": "2024-12-10T13:40:27.337318Z"
    }
   },
   "cell_type": "code",
   "source": "a",
   "id": "c37d49b024b9acbe",
   "outputs": [
    {
     "data": {
      "text/plain": [
       "5"
      ]
     },
     "execution_count": 2,
     "metadata": {},
     "output_type": "execute_result"
    }
   ],
   "execution_count": 2
  },
  {
   "metadata": {
    "ExecuteTime": {
     "end_time": "2024-12-10T13:40:31.798361Z",
     "start_time": "2024-12-10T13:40:31.794720Z"
    }
   },
   "cell_type": "code",
   "source": "a = 10",
   "id": "f2991216e45ccd32",
   "outputs": [],
   "execution_count": 3
  },
  {
   "metadata": {
    "ExecuteTime": {
     "end_time": "2024-12-10T13:40:33.098070Z",
     "start_time": "2024-12-10T13:40:33.091590Z"
    }
   },
   "cell_type": "code",
   "source": "a",
   "id": "bc8407a129d5faa5",
   "outputs": [
    {
     "data": {
      "text/plain": [
       "10"
      ]
     },
     "execution_count": 4,
     "metadata": {},
     "output_type": "execute_result"
    }
   ],
   "execution_count": 4
  },
  {
   "metadata": {
    "ExecuteTime": {
     "end_time": "2024-12-10T13:40:35.503391Z",
     "start_time": "2024-12-10T13:40:35.498004Z"
    }
   },
   "cell_type": "code",
   "source": "a + a",
   "id": "fe8f2ea850bf57bf",
   "outputs": [
    {
     "data": {
      "text/plain": [
       "20"
      ]
     },
     "execution_count": 5,
     "metadata": {},
     "output_type": "execute_result"
    }
   ],
   "execution_count": 5
  },
  {
   "metadata": {
    "ExecuteTime": {
     "end_time": "2024-12-10T13:41:21.503802Z",
     "start_time": "2024-12-10T13:41:21.500523Z"
    }
   },
   "cell_type": "code",
   "source": "a = a + a",
   "id": "fad1d7a9a0148711",
   "outputs": [],
   "execution_count": 10
  },
  {
   "metadata": {
    "ExecuteTime": {
     "end_time": "2024-12-10T13:41:22.131943Z",
     "start_time": "2024-12-10T13:41:22.127316Z"
    }
   },
   "cell_type": "code",
   "source": "a",
   "id": "6c30d908d57d9679",
   "outputs": [
    {
     "data": {
      "text/plain": [
       "80"
      ]
     },
     "execution_count": 11,
     "metadata": {},
     "output_type": "execute_result"
    }
   ],
   "execution_count": 11
  },
  {
   "metadata": {
    "ExecuteTime": {
     "end_time": "2024-12-10T13:41:50.199813Z",
     "start_time": "2024-12-10T13:41:50.193591Z"
    }
   },
   "cell_type": "code",
   "source": "type(a)",
   "id": "2ae5e3041018e97d",
   "outputs": [
    {
     "data": {
      "text/plain": [
       "int"
      ]
     },
     "execution_count": 12,
     "metadata": {},
     "output_type": "execute_result"
    }
   ],
   "execution_count": 12
  },
  {
   "metadata": {
    "ExecuteTime": {
     "end_time": "2024-12-10T13:42:04.490887Z",
     "start_time": "2024-12-10T13:42:04.487351Z"
    }
   },
   "cell_type": "code",
   "source": "a = 30.1",
   "id": "2fe71d55f1a49f0e",
   "outputs": [],
   "execution_count": 13
  },
  {
   "metadata": {
    "ExecuteTime": {
     "end_time": "2024-12-10T13:42:08.194678Z",
     "start_time": "2024-12-10T13:42:08.188421Z"
    }
   },
   "cell_type": "code",
   "source": "type(a)",
   "id": "3013a0fe8ccc0e7e",
   "outputs": [
    {
     "data": {
      "text/plain": [
       "float"
      ]
     },
     "execution_count": 14,
     "metadata": {},
     "output_type": "execute_result"
    }
   ],
   "execution_count": 14
  },
  {
   "metadata": {
    "ExecuteTime": {
     "end_time": "2024-12-10T13:44:11.539134Z",
     "start_time": "2024-12-10T13:44:11.534794Z"
    }
   },
   "cell_type": "code",
   "source": [
    "my_income = 100\n",
    "tax_rate = 0.1\n",
    "my_taxes = my_income * tax_rate"
   ],
   "id": "198e2805a3499381",
   "outputs": [],
   "execution_count": 15
  },
  {
   "metadata": {
    "ExecuteTime": {
     "end_time": "2024-12-10T13:44:19.400248Z",
     "start_time": "2024-12-10T13:44:19.393237Z"
    }
   },
   "cell_type": "code",
   "source": "my_taxes",
   "id": "a38c860bc035d9bf",
   "outputs": [
    {
     "data": {
      "text/plain": [
       "10.0"
      ]
     },
     "execution_count": 16,
     "metadata": {},
     "output_type": "execute_result"
    }
   ],
   "execution_count": 16
  }
 ],
 "metadata": {
  "kernelspec": {
   "display_name": "Python 3",
   "language": "python",
   "name": "python3"
  },
  "language_info": {
   "codemirror_mode": {
    "name": "ipython",
    "version": 2
   },
   "file_extension": ".py",
   "mimetype": "text/x-python",
   "name": "python",
   "nbconvert_exporter": "python",
   "pygments_lexer": "ipython2",
   "version": "2.7.6"
  }
 },
 "nbformat": 4,
 "nbformat_minor": 5
}
