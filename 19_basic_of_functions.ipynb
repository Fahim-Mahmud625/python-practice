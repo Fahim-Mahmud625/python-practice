{
 "cells": [
  {
   "cell_type": "code",
   "id": "initial_id",
   "metadata": {
    "collapsed": true,
    "ExecuteTime": {
     "end_time": "2025-01-03T13:56:53.504392Z",
     "start_time": "2025-01-03T13:56:53.497338Z"
    }
   },
   "source": [
    "def say_hello():\n",
    "    print('Hello')"
   ],
   "outputs": [],
   "execution_count": 1
  },
  {
   "metadata": {
    "ExecuteTime": {
     "end_time": "2025-01-03T13:56:54.411681Z",
     "start_time": "2025-01-03T13:56:54.406777Z"
    }
   },
   "cell_type": "code",
   "source": "say_hello()",
   "id": "f706629d030ca3e5",
   "outputs": [
    {
     "name": "stdout",
     "output_type": "stream",
     "text": [
      "Hello\n"
     ]
    }
   ],
   "execution_count": 2
  },
  {
   "metadata": {
    "ExecuteTime": {
     "end_time": "2025-01-03T14:00:05.778311Z",
     "start_time": "2025-01-03T14:00:05.773083Z"
    }
   },
   "cell_type": "code",
   "source": [
    "def say_hi(name = 'There'):\n",
    "    print(f'Hi {name}!')"
   ],
   "id": "73a05fbc3ae47d8c",
   "outputs": [],
   "execution_count": 7
  },
  {
   "metadata": {
    "ExecuteTime": {
     "end_time": "2025-01-03T14:00:06.666548Z",
     "start_time": "2025-01-03T14:00:06.661383Z"
    }
   },
   "cell_type": "code",
   "source": "say_hi('Fahim')",
   "id": "33b2e12a3c42fcd3",
   "outputs": [
    {
     "name": "stdout",
     "output_type": "stream",
     "text": [
      "Hi Fahim!\n"
     ]
    }
   ],
   "execution_count": 8
  },
  {
   "metadata": {
    "ExecuteTime": {
     "end_time": "2025-01-03T14:00:10.956687Z",
     "start_time": "2025-01-03T14:00:10.949310Z"
    }
   },
   "cell_type": "code",
   "source": "say_hi()",
   "id": "90d01e514ce238ab",
   "outputs": [
    {
     "name": "stdout",
     "output_type": "stream",
     "text": [
      "Hi There!\n"
     ]
    }
   ],
   "execution_count": 9
  },
  {
   "metadata": {
    "ExecuteTime": {
     "end_time": "2025-01-03T14:00:46.432945Z",
     "start_time": "2025-01-03T14:00:46.428011Z"
    }
   },
   "cell_type": "code",
   "source": [
    "def add_numbers(a, b):\n",
    "    return a + b # gives as a var"
   ],
   "id": "fd594b236685ee5d",
   "outputs": [],
   "execution_count": 10
  },
  {
   "metadata": {
    "ExecuteTime": {
     "end_time": "2025-01-03T14:00:57.400344Z",
     "start_time": "2025-01-03T14:00:57.392584Z"
    }
   },
   "cell_type": "code",
   "source": "add_numbers(4,3)",
   "id": "e2df1b4391b51085",
   "outputs": [
    {
     "data": {
      "text/plain": [
       "7"
      ]
     },
     "execution_count": 11,
     "metadata": {},
     "output_type": "execute_result"
    }
   ],
   "execution_count": 11
  },
  {
   "metadata": {
    "ExecuteTime": {
     "end_time": "2025-01-03T14:02:00.906439Z",
     "start_time": "2025-01-03T14:02:00.902519Z"
    }
   },
   "cell_type": "code",
   "source": "result = add_numbers(4,3)",
   "id": "6441cf8a966b0bb8",
   "outputs": [],
   "execution_count": 12
  },
  {
   "metadata": {
    "ExecuteTime": {
     "end_time": "2025-01-03T14:02:03.301326Z",
     "start_time": "2025-01-03T14:02:03.294443Z"
    }
   },
   "cell_type": "code",
   "source": "result",
   "id": "b7e660fe85813d4d",
   "outputs": [
    {
     "data": {
      "text/plain": [
       "7"
      ]
     },
     "execution_count": 13,
     "metadata": {},
     "output_type": "execute_result"
    }
   ],
   "execution_count": 13
  },
  {
   "metadata": {
    "ExecuteTime": {
     "end_time": "2025-01-03T14:04:00.482535Z",
     "start_time": "2025-01-03T14:04:00.477768Z"
    }
   },
   "cell_type": "code",
   "source": [
    "def print_result(a, b):\n",
    "    print(a + b)"
   ],
   "id": "81be07c3354f92cd",
   "outputs": [],
   "execution_count": 14
  },
  {
   "metadata": {
    "ExecuteTime": {
     "end_time": "2025-01-03T14:04:13.520319Z",
     "start_time": "2025-01-03T14:04:13.515795Z"
    }
   },
   "cell_type": "code",
   "source": "print_result(10,20)",
   "id": "c7128c0e3eaee9c0",
   "outputs": [
    {
     "name": "stdout",
     "output_type": "stream",
     "text": [
      "30\n"
     ]
    }
   ],
   "execution_count": 15
  },
  {
   "metadata": {
    "ExecuteTime": {
     "end_time": "2025-01-03T14:04:23.325259Z",
     "start_time": "2025-01-03T14:04:23.320129Z"
    }
   },
   "cell_type": "code",
   "source": "result = print_result(10,20)",
   "id": "3a6e46bf2e7d6fb4",
   "outputs": [
    {
     "name": "stdout",
     "output_type": "stream",
     "text": [
      "30\n"
     ]
    }
   ],
   "execution_count": 16
  },
  {
   "metadata": {
    "ExecuteTime": {
     "end_time": "2025-01-03T14:04:25.370181Z",
     "start_time": "2025-01-03T14:04:25.364705Z"
    }
   },
   "cell_type": "code",
   "source": "result",
   "id": "b8d590af37f58939",
   "outputs": [],
   "execution_count": 17
  },
  {
   "metadata": {
    "ExecuteTime": {
     "end_time": "2025-01-03T14:04:34.102813Z",
     "start_time": "2025-01-03T14:04:34.098002Z"
    }
   },
   "cell_type": "code",
   "source": "#but",
   "id": "ef7dd4a1dfa66cc4",
   "outputs": [],
   "execution_count": 19
  },
  {
   "metadata": {
    "ExecuteTime": {
     "end_time": "2025-01-03T14:04:53.702539Z",
     "start_time": "2025-01-03T14:04:53.698192Z"
    }
   },
   "cell_type": "code",
   "source": [
    "def return_result(a, b):\n",
    "    return a + b\n",
    "result = return_result(10,20)"
   ],
   "id": "cf50edcbb03017a1",
   "outputs": [],
   "execution_count": 20
  },
  {
   "metadata": {
    "ExecuteTime": {
     "end_time": "2025-01-03T14:04:55.963188Z",
     "start_time": "2025-01-03T14:04:55.956114Z"
    }
   },
   "cell_type": "code",
   "source": "result",
   "id": "9cbe371f0f03c200",
   "outputs": [
    {
     "data": {
      "text/plain": [
       "30"
      ]
     },
     "execution_count": 21,
     "metadata": {},
     "output_type": "execute_result"
    }
   ],
   "execution_count": 21
  },
  {
   "metadata": {
    "ExecuteTime": {
     "end_time": "2025-01-03T14:06:44.189125Z",
     "start_time": "2025-01-03T14:06:44.183994Z"
    }
   },
   "cell_type": "code",
   "source": [
    "def my_function(a, b):\n",
    "    print(a + b)\n",
    "    return a + b"
   ],
   "id": "258daf86d4c32ce9",
   "outputs": [],
   "execution_count": 22
  },
  {
   "metadata": {
    "ExecuteTime": {
     "end_time": "2025-01-03T14:06:49.086032Z",
     "start_time": "2025-01-03T14:06:49.079679Z"
    }
   },
   "cell_type": "code",
   "source": "result = my_function(10, 20)",
   "id": "a31c391736ffae3d",
   "outputs": [
    {
     "name": "stdout",
     "output_type": "stream",
     "text": [
      "30\n"
     ]
    }
   ],
   "execution_count": 23
  },
  {
   "metadata": {
    "ExecuteTime": {
     "end_time": "2025-01-03T14:06:50.520789Z",
     "start_time": "2025-01-03T14:06:50.513188Z"
    }
   },
   "cell_type": "code",
   "source": "result",
   "id": "5f8cb2d1991c402d",
   "outputs": [
    {
     "data": {
      "text/plain": [
       "30"
      ]
     },
     "execution_count": 24,
     "metadata": {},
     "output_type": "execute_result"
    }
   ],
   "execution_count": 24
  },
  {
   "metadata": {
    "ExecuteTime": {
     "end_time": "2025-01-03T14:07:51.551575Z",
     "start_time": "2025-01-03T14:07:51.544880Z"
    }
   },
   "cell_type": "code",
   "source": "type(result)",
   "id": "70ed6fdbed506586",
   "outputs": [
    {
     "data": {
      "text/plain": [
       "int"
      ]
     },
     "execution_count": 25,
     "metadata": {},
     "output_type": "execute_result"
    }
   ],
   "execution_count": 25
  },
  {
   "metadata": {
    "ExecuteTime": {
     "end_time": "2025-01-03T14:09:00.346204Z",
     "start_time": "2025-01-03T14:09:00.340647Z"
    }
   },
   "cell_type": "code",
   "source": "result2 = my_function('10', '20')",
   "id": "6c87975167cf9856",
   "outputs": [
    {
     "name": "stdout",
     "output_type": "stream",
     "text": [
      "1020\n"
     ]
    }
   ],
   "execution_count": 28
  },
  {
   "metadata": {
    "ExecuteTime": {
     "end_time": "2025-01-03T14:09:13.024614Z",
     "start_time": "2025-01-03T14:09:13.017783Z"
    }
   },
   "cell_type": "code",
   "source": "result2",
   "id": "bf5be55bf24ac3da",
   "outputs": [
    {
     "data": {
      "text/plain": [
       "'1020'"
      ]
     },
     "execution_count": 29,
     "metadata": {},
     "output_type": "execute_result"
    }
   ],
   "execution_count": 29
  },
  {
   "metadata": {
    "ExecuteTime": {
     "end_time": "2025-01-03T14:09:13.792981Z",
     "start_time": "2025-01-03T14:09:13.785477Z"
    }
   },
   "cell_type": "code",
   "source": "type(result2)",
   "id": "13c2f5510b5ffdb4",
   "outputs": [
    {
     "data": {
      "text/plain": [
       "str"
      ]
     },
     "execution_count": 30,
     "metadata": {},
     "output_type": "execute_result"
    }
   ],
   "execution_count": 30
  }
 ],
 "metadata": {
  "kernelspec": {
   "display_name": "Python 3",
   "language": "python",
   "name": "python3"
  },
  "language_info": {
   "codemirror_mode": {
    "name": "ipython",
    "version": 2
   },
   "file_extension": ".py",
   "mimetype": "text/x-python",
   "name": "python",
   "nbconvert_exporter": "python",
   "pygments_lexer": "ipython2",
   "version": "2.7.6"
  }
 },
 "nbformat": 4,
 "nbformat_minor": 5
}
