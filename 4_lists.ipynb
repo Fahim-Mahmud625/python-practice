{
 "cells": [
  {
   "cell_type": "code",
   "id": "initial_id",
   "metadata": {
    "collapsed": true,
    "ExecuteTime": {
     "end_time": "2024-12-12T12:57:53.018418Z",
     "start_time": "2024-12-12T12:57:53.013312Z"
    }
   },
   "source": "my_list = [1, 2, 3]",
   "outputs": [],
   "execution_count": 2
  },
  {
   "metadata": {
    "ExecuteTime": {
     "end_time": "2024-12-12T12:58:16.511569Z",
     "start_time": "2024-12-12T12:58:16.507091Z"
    }
   },
   "cell_type": "code",
   "source": "my_list = ['STRING', 100, 23.2]",
   "id": "d8f066ab5f39b5cc",
   "outputs": [],
   "execution_count": 3
  },
  {
   "metadata": {
    "ExecuteTime": {
     "end_time": "2024-12-12T12:58:20.284419Z",
     "start_time": "2024-12-12T12:58:20.275724Z"
    }
   },
   "cell_type": "code",
   "source": "len(my_list)",
   "id": "f75f89f5aa9c5498",
   "outputs": [
    {
     "data": {
      "text/plain": [
       "3"
      ]
     },
     "execution_count": 4,
     "metadata": {},
     "output_type": "execute_result"
    }
   ],
   "execution_count": 4
  },
  {
   "metadata": {
    "ExecuteTime": {
     "end_time": "2024-12-12T12:59:02.346348Z",
     "start_time": "2024-12-12T12:59:02.341155Z"
    }
   },
   "cell_type": "code",
   "source": "mylist = [\"one\", \"two\", \"three\"]",
   "id": "1af47d56ba118b94",
   "outputs": [],
   "execution_count": 5
  },
  {
   "metadata": {
    "ExecuteTime": {
     "end_time": "2024-12-12T12:59:07.394370Z",
     "start_time": "2024-12-12T12:59:07.387468Z"
    }
   },
   "cell_type": "code",
   "source": "mylist[0]",
   "id": "5b5005022d147fbe",
   "outputs": [
    {
     "data": {
      "text/plain": [
       "'one'"
      ]
     },
     "execution_count": 6,
     "metadata": {},
     "output_type": "execute_result"
    }
   ],
   "execution_count": 6
  },
  {
   "metadata": {
    "ExecuteTime": {
     "end_time": "2024-12-12T12:59:21.159087Z",
     "start_time": "2024-12-12T12:59:21.151940Z"
    }
   },
   "cell_type": "code",
   "source": "mylist[1:]",
   "id": "dbfdbc25b0773ca5",
   "outputs": [
    {
     "data": {
      "text/plain": [
       "['two', 'three']"
      ]
     },
     "execution_count": 7,
     "metadata": {},
     "output_type": "execute_result"
    }
   ],
   "execution_count": 7
  },
  {
   "metadata": {
    "ExecuteTime": {
     "end_time": "2024-12-12T13:04:02.535102Z",
     "start_time": "2024-12-12T13:04:02.530222Z"
    }
   },
   "cell_type": "code",
   "source": "another_list = ['four', 'five']",
   "id": "6ca95c896ee76e96",
   "outputs": [],
   "execution_count": 10
  },
  {
   "metadata": {
    "ExecuteTime": {
     "end_time": "2024-12-12T13:04:39.446835Z",
     "start_time": "2024-12-12T13:04:39.442193Z"
    }
   },
   "cell_type": "code",
   "source": "new_list = mylist + another_list",
   "id": "e639a38300b50a0b",
   "outputs": [],
   "execution_count": 12
  },
  {
   "metadata": {
    "ExecuteTime": {
     "end_time": "2024-12-12T13:05:01.241979Z",
     "start_time": "2024-12-12T13:05:01.237828Z"
    }
   },
   "cell_type": "code",
   "source": "new_list[0] = 'ONE ALL CAPS'",
   "id": "c2d28dc4ab5bdc3b",
   "outputs": [],
   "execution_count": 13
  },
  {
   "metadata": {
    "ExecuteTime": {
     "end_time": "2024-12-12T13:05:03.304975Z",
     "start_time": "2024-12-12T13:05:03.297527Z"
    }
   },
   "cell_type": "code",
   "source": "new_list",
   "id": "1c51432fc24a9dd8",
   "outputs": [
    {
     "data": {
      "text/plain": [
       "['ONE ALL CAPS', 'two', 'three', 'four', 'five']"
      ]
     },
     "execution_count": 14,
     "metadata": {},
     "output_type": "execute_result"
    }
   ],
   "execution_count": 14
  },
  {
   "metadata": {
    "ExecuteTime": {
     "end_time": "2024-12-12T13:05:55.206326Z",
     "start_time": "2024-12-12T13:05:55.202344Z"
    }
   },
   "cell_type": "code",
   "source": "new_list.append('six')",
   "id": "2c99225f95da1ed",
   "outputs": [],
   "execution_count": 15
  },
  {
   "metadata": {
    "ExecuteTime": {
     "end_time": "2024-12-12T13:05:58.287698Z",
     "start_time": "2024-12-12T13:05:58.281169Z"
    }
   },
   "cell_type": "code",
   "source": "new_list",
   "id": "761e333ee6424c15",
   "outputs": [
    {
     "data": {
      "text/plain": [
       "['ONE ALL CAPS', 'two', 'three', 'four', 'five', 'six']"
      ]
     },
     "execution_count": 16,
     "metadata": {},
     "output_type": "execute_result"
    }
   ],
   "execution_count": 16
  },
  {
   "metadata": {
    "ExecuteTime": {
     "end_time": "2024-12-12T13:06:51.378892Z",
     "start_time": "2024-12-12T13:06:51.372539Z"
    }
   },
   "cell_type": "code",
   "source": "new_list.append('seven')",
   "id": "ec345f0c38d70f55",
   "outputs": [],
   "execution_count": 17
  },
  {
   "metadata": {
    "ExecuteTime": {
     "end_time": "2024-12-12T13:06:53.443978Z",
     "start_time": "2024-12-12T13:06:53.437814Z"
    }
   },
   "cell_type": "code",
   "source": "new_list",
   "id": "765aec01d572614d",
   "outputs": [
    {
     "data": {
      "text/plain": [
       "['ONE ALL CAPS', 'two', 'three', 'four', 'five', 'six', 'seven']"
      ]
     },
     "execution_count": 18,
     "metadata": {},
     "output_type": "execute_result"
    }
   ],
   "execution_count": 18
  },
  {
   "metadata": {
    "ExecuteTime": {
     "end_time": "2024-12-12T13:07:44.180497Z",
     "start_time": "2024-12-12T13:07:44.174446Z"
    }
   },
   "cell_type": "code",
   "source": "new_list.pop()",
   "id": "8cf70cd72655f8c6",
   "outputs": [
    {
     "data": {
      "text/plain": [
       "'seven'"
      ]
     },
     "execution_count": 20,
     "metadata": {},
     "output_type": "execute_result"
    }
   ],
   "execution_count": 20
  },
  {
   "metadata": {
    "ExecuteTime": {
     "end_time": "2024-12-12T13:07:56.688586Z",
     "start_time": "2024-12-12T13:07:56.681396Z"
    }
   },
   "cell_type": "code",
   "source": "new_list",
   "id": "47721c8d236f939",
   "outputs": [
    {
     "data": {
      "text/plain": [
       "['ONE ALL CAPS', 'two', 'three', 'four', 'five', 'six']"
      ]
     },
     "execution_count": 21,
     "metadata": {},
     "output_type": "execute_result"
    }
   ],
   "execution_count": 21
  },
  {
   "metadata": {
    "ExecuteTime": {
     "end_time": "2024-12-12T13:08:23.403353Z",
     "start_time": "2024-12-12T13:08:23.397575Z"
    }
   },
   "cell_type": "code",
   "source": "popped_item = new_list.pop()",
   "id": "58bf68f022e42998",
   "outputs": [],
   "execution_count": 22
  },
  {
   "metadata": {
    "ExecuteTime": {
     "end_time": "2024-12-12T13:08:26.188686Z",
     "start_time": "2024-12-12T13:08:26.182022Z"
    }
   },
   "cell_type": "code",
   "source": "popped_item",
   "id": "5e7fb32a61d14f46",
   "outputs": [
    {
     "data": {
      "text/plain": [
       "'six'"
      ]
     },
     "execution_count": 23,
     "metadata": {},
     "output_type": "execute_result"
    }
   ],
   "execution_count": 23
  },
  {
   "metadata": {
    "ExecuteTime": {
     "end_time": "2024-12-12T13:08:37.262247Z",
     "start_time": "2024-12-12T13:08:37.255250Z"
    }
   },
   "cell_type": "code",
   "source": "new_list",
   "id": "13650974b81c4f50",
   "outputs": [
    {
     "data": {
      "text/plain": [
       "['ONE ALL CAPS', 'two', 'three', 'four', 'five']"
      ]
     },
     "execution_count": 24,
     "metadata": {},
     "output_type": "execute_result"
    }
   ],
   "execution_count": 24
  },
  {
   "metadata": {
    "ExecuteTime": {
     "end_time": "2024-12-12T13:09:00.767770Z",
     "start_time": "2024-12-12T13:09:00.761256Z"
    }
   },
   "cell_type": "code",
   "source": "new_list.pop(0)",
   "id": "4813bc111a50edd8",
   "outputs": [
    {
     "data": {
      "text/plain": [
       "'ONE ALL CAPS'"
      ]
     },
     "execution_count": 25,
     "metadata": {},
     "output_type": "execute_result"
    }
   ],
   "execution_count": 25
  },
  {
   "metadata": {
    "ExecuteTime": {
     "end_time": "2024-12-12T13:09:03.779787Z",
     "start_time": "2024-12-12T13:09:03.772805Z"
    }
   },
   "cell_type": "code",
   "source": "new_list",
   "id": "69b428244aca61fb",
   "outputs": [
    {
     "data": {
      "text/plain": [
       "['two', 'three', 'four', 'five']"
      ]
     },
     "execution_count": 26,
     "metadata": {},
     "output_type": "execute_result"
    }
   ],
   "execution_count": 26
  },
  {
   "metadata": {
    "ExecuteTime": {
     "end_time": "2024-12-12T13:50:14.005259Z",
     "start_time": "2024-12-12T13:50:14.000601Z"
    }
   },
   "cell_type": "code",
   "source": [
    "new_list = ['a', 'e', 'x', 'b', 'c']\n",
    "num_list = [4, 1, 8, 3]"
   ],
   "id": "9398fa9f402ae20b",
   "outputs": [],
   "execution_count": 2
  },
  {
   "metadata": {
    "ExecuteTime": {
     "end_time": "2024-12-12T13:50:14.390493Z",
     "start_time": "2024-12-12T13:50:14.386066Z"
    }
   },
   "cell_type": "code",
   "source": "new_list.sort()",
   "id": "850109574f5080c",
   "outputs": [],
   "execution_count": 3
  },
  {
   "metadata": {
    "ExecuteTime": {
     "end_time": "2024-12-12T13:50:14.850726Z",
     "start_time": "2024-12-12T13:50:14.842225Z"
    }
   },
   "cell_type": "code",
   "source": "new_list",
   "id": "48e3df375f873092",
   "outputs": [
    {
     "data": {
      "text/plain": [
       "['a', 'b', 'c', 'e', 'x']"
      ]
     },
     "execution_count": 4,
     "metadata": {},
     "output_type": "execute_result"
    }
   ],
   "execution_count": 4
  },
  {
   "metadata": {
    "ExecuteTime": {
     "end_time": "2024-12-12T13:50:15.294137Z",
     "start_time": "2024-12-12T13:50:15.289333Z"
    }
   },
   "cell_type": "code",
   "source": "num_list.reverse()",
   "id": "66a865c7c7405ab",
   "outputs": [],
   "execution_count": 5
  },
  {
   "metadata": {
    "ExecuteTime": {
     "end_time": "2024-12-12T13:50:15.744213Z",
     "start_time": "2024-12-12T13:50:15.737711Z"
    }
   },
   "cell_type": "code",
   "source": "num_list",
   "id": "49b91db2fb159e8a",
   "outputs": [
    {
     "data": {
      "text/plain": [
       "[3, 8, 1, 4]"
      ]
     },
     "execution_count": 6,
     "metadata": {},
     "output_type": "execute_result"
    }
   ],
   "execution_count": 6
  },
  {
   "metadata": {
    "ExecuteTime": {
     "end_time": "2024-12-12T13:50:40.690429Z",
     "start_time": "2024-12-12T13:50:40.683905Z"
    }
   },
   "cell_type": "code",
   "source": [
    "lst_1 = [1, 2, 3]\n",
    "lst_2 = [4, 5, 6]\n",
    "lst_3 = [7, 8, 9]\n",
    "\n",
    "matrix = [lst_1, lst_2, lst_3]\n",
    "matrix"
   ],
   "id": "f2c6fbe05c63f962",
   "outputs": [
    {
     "data": {
      "text/plain": [
       "[[1, 2, 3], [4, 5, 6], [7, 8, 9]]"
      ]
     },
     "execution_count": 7,
     "metadata": {},
     "output_type": "execute_result"
    }
   ],
   "execution_count": 7
  },
  {
   "metadata": {
    "ExecuteTime": {
     "end_time": "2024-12-12T13:51:00.587244Z",
     "start_time": "2024-12-12T13:51:00.580156Z"
    }
   },
   "cell_type": "code",
   "source": [
    "matrix[0]\n",
    "matrix[1][1]"
   ],
   "id": "c28b5eaea0646371",
   "outputs": [
    {
     "data": {
      "text/plain": [
       "5"
      ]
     },
     "execution_count": 8,
     "metadata": {},
     "output_type": "execute_result"
    }
   ],
   "execution_count": 8
  },
  {
   "metadata": {},
   "cell_type": "code",
   "outputs": [],
   "execution_count": null,
   "source": "",
   "id": "5d8a7eea85b302a9"
  }
 ],
 "metadata": {
  "kernelspec": {
   "display_name": "Python 3",
   "language": "python",
   "name": "python3"
  },
  "language_info": {
   "codemirror_mode": {
    "name": "ipython",
    "version": 2
   },
   "file_extension": ".py",
   "mimetype": "text/x-python",
   "name": "python",
   "nbconvert_exporter": "python",
   "pygments_lexer": "ipython2",
   "version": "2.7.6"
  }
 },
 "nbformat": 4,
 "nbformat_minor": 5
}
