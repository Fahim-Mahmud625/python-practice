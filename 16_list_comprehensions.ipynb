{
 "cells": [
  {
   "cell_type": "code",
   "execution_count": 1,
   "id": "884b1e6a600f7ab9",
   "metadata": {
    "ExecuteTime": {
     "end_time": "2024-12-25T14:05:35.893941Z",
     "start_time": "2024-12-25T14:05:35.888676Z"
    }
   },
   "outputs": [],
   "source": [
    "mystring = 'hello'"
   ]
  },
  {
   "cell_type": "code",
   "execution_count": 2,
   "id": "ca3bdf0b773acb33",
   "metadata": {
    "ExecuteTime": {
     "end_time": "2024-12-25T14:06:10.085449Z",
     "start_time": "2024-12-25T14:06:10.080420Z"
    }
   },
   "outputs": [],
   "source": [
    "mylist = []\n",
    "\n",
    "for letter in mystring:\n",
    "    mylist.append(letter)"
   ]
  },
  {
   "cell_type": "code",
   "execution_count": 3,
   "id": "8de4234c7e5c760a",
   "metadata": {
    "ExecuteTime": {
     "end_time": "2024-12-25T14:06:15.586674Z",
     "start_time": "2024-12-25T14:06:15.579035Z"
    }
   },
   "outputs": [
    {
     "data": {
      "text/plain": [
       "['h', 'e', 'l', 'l', 'o']"
      ]
     },
     "execution_count": 3,
     "metadata": {},
     "output_type": "execute_result"
    }
   ],
   "source": [
    "mylist"
   ]
  },
  {
   "cell_type": "code",
   "execution_count": 4,
   "id": "2c2a442da0f9178f",
   "metadata": {
    "ExecuteTime": {
     "end_time": "2024-12-25T14:07:57.977295Z",
     "start_time": "2024-12-25T14:07:57.973441Z"
    }
   },
   "outputs": [],
   "source": [
    "mylist = [letter for letter in mystring]"
   ]
  },
  {
   "cell_type": "code",
   "execution_count": 5,
   "id": "c6c67844bd57fef2",
   "metadata": {
    "ExecuteTime": {
     "end_time": "2024-12-25T14:08:00.990357Z",
     "start_time": "2024-12-25T14:08:00.984920Z"
    }
   },
   "outputs": [
    {
     "data": {
      "text/plain": [
       "['h', 'e', 'l', 'l', 'o']"
      ]
     },
     "execution_count": 5,
     "metadata": {},
     "output_type": "execute_result"
    }
   ],
   "source": [
    "mylist"
   ]
  },
  {
   "cell_type": "code",
   "execution_count": 6,
   "id": "9342c6f8f281fac8",
   "metadata": {
    "ExecuteTime": {
     "end_time": "2024-12-25T14:08:41.547473Z",
     "start_time": "2024-12-25T14:08:41.543388Z"
    }
   },
   "outputs": [],
   "source": [
    "mylist = [x for x in 'word']"
   ]
  },
  {
   "cell_type": "code",
   "execution_count": 7,
   "id": "fd9158380cc7f041",
   "metadata": {
    "ExecuteTime": {
     "end_time": "2024-12-25T14:08:44.669623Z",
     "start_time": "2024-12-25T14:08:44.663529Z"
    }
   },
   "outputs": [
    {
     "data": {
      "text/plain": [
       "['w', 'o', 'r', 'd']"
      ]
     },
     "execution_count": 7,
     "metadata": {},
     "output_type": "execute_result"
    }
   ],
   "source": [
    "mylist"
   ]
  },
  {
   "cell_type": "code",
   "execution_count": 10,
   "id": "8a4bc81cf34174f8",
   "metadata": {
    "ExecuteTime": {
     "end_time": "2024-12-25T14:11:04.510291Z",
     "start_time": "2024-12-25T14:11:04.507082Z"
    }
   },
   "outputs": [],
   "source": [
    "mylist = [x**2 for x in range(0,11)] # flattening out the for loop"
   ]
  },
  {
   "cell_type": "code",
   "execution_count": 11,
   "id": "3c05792d92df25d1",
   "metadata": {
    "ExecuteTime": {
     "end_time": "2024-12-25T14:11:05.593433Z",
     "start_time": "2024-12-25T14:11:05.587546Z"
    }
   },
   "outputs": [
    {
     "data": {
      "text/plain": [
       "[0, 1, 4, 9, 16, 25, 36, 49, 64, 81, 100]"
      ]
     },
     "execution_count": 11,
     "metadata": {},
     "output_type": "execute_result"
    }
   ],
   "source": [
    "mylist"
   ]
  },
  {
   "cell_type": "code",
   "execution_count": 12,
   "id": "e26446b935d3ccca",
   "metadata": {
    "ExecuteTime": {
     "end_time": "2024-12-25T14:12:29.108979Z",
     "start_time": "2024-12-25T14:12:29.102014Z"
    }
   },
   "outputs": [],
   "source": [
    "mylist = [x for x in range(0,11) if x%2 == 0]"
   ]
  },
  {
   "cell_type": "code",
   "execution_count": 13,
   "id": "751ce9d89edb0c6a",
   "metadata": {
    "ExecuteTime": {
     "end_time": "2024-12-25T14:12:32.744723Z",
     "start_time": "2024-12-25T14:12:32.736630Z"
    }
   },
   "outputs": [
    {
     "data": {
      "text/plain": [
       "[0, 2, 4, 6, 8, 10]"
      ]
     },
     "execution_count": 13,
     "metadata": {},
     "output_type": "execute_result"
    }
   ],
   "source": [
    "mylist"
   ]
  },
  {
   "cell_type": "code",
   "execution_count": 15,
   "id": "24e04407fd34961b",
   "metadata": {
    "ExecuteTime": {
     "end_time": "2024-12-25T14:15:12.639994Z",
     "start_time": "2024-12-25T14:15:12.632553Z"
    }
   },
   "outputs": [
    {
     "data": {
      "text/plain": [
       "[32.0, 50.0, 68.0, 94.1]"
      ]
     },
     "execution_count": 15,
     "metadata": {},
     "output_type": "execute_result"
    }
   ],
   "source": [
    "celcius = [0,10,20,34.5]\n",
    "\n",
    "fahrenheit = [((9/5)*temp + 32) for temp in celcius]\n",
    "fahrenheit"
   ]
  },
  {
   "cell_type": "code",
   "execution_count": 16,
   "id": "c150f0a52e45dbd3",
   "metadata": {
    "ExecuteTime": {
     "end_time": "2024-12-25T14:17:06.048321Z",
     "start_time": "2024-12-25T14:17:06.044031Z"
    }
   },
   "outputs": [],
   "source": [
    "results = [x if x%2 == 0 else 'ODD' for x in range(0,11)]"
   ]
  },
  {
   "cell_type": "code",
   "execution_count": 17,
   "id": "f73c46ac782aa32e",
   "metadata": {
    "ExecuteTime": {
     "end_time": "2024-12-25T14:17:09.613630Z",
     "start_time": "2024-12-25T14:17:09.607622Z"
    }
   },
   "outputs": [
    {
     "data": {
      "text/plain": [
       "[0, 'ODD', 2, 'ODD', 4, 'ODD', 6, 'ODD', 8, 'ODD', 10]"
      ]
     },
     "execution_count": 17,
     "metadata": {},
     "output_type": "execute_result"
    }
   ],
   "source": [
    "results"
   ]
  },
  {
   "cell_type": "code",
   "execution_count": 18,
   "id": "6e1bcbf97b6f2bc",
   "metadata": {
    "ExecuteTime": {
     "end_time": "2024-12-25T14:18:01.013776Z",
     "start_time": "2024-12-25T14:18:01.008992Z"
    }
   },
   "outputs": [],
   "source": [
    "results = ['EVEN' if x%2 == 0 else 'ODD' for x in range(0,11)]"
   ]
  },
  {
   "cell_type": "code",
   "execution_count": 19,
   "id": "3c569474afde6525",
   "metadata": {
    "ExecuteTime": {
     "end_time": "2024-12-25T14:18:03.105141Z",
     "start_time": "2024-12-25T14:18:03.099684Z"
    }
   },
   "outputs": [
    {
     "data": {
      "text/plain": [
       "['EVEN',\n",
       " 'ODD',\n",
       " 'EVEN',\n",
       " 'ODD',\n",
       " 'EVEN',\n",
       " 'ODD',\n",
       " 'EVEN',\n",
       " 'ODD',\n",
       " 'EVEN',\n",
       " 'ODD',\n",
       " 'EVEN']"
      ]
     },
     "execution_count": 19,
     "metadata": {},
     "output_type": "execute_result"
    }
   ],
   "source": [
    "results"
   ]
  },
  {
   "cell_type": "code",
   "execution_count": 21,
   "id": "78b1495947fd1942",
   "metadata": {
    "ExecuteTime": {
     "end_time": "2024-12-25T14:19:18.630789Z",
     "start_time": "2024-12-25T14:19:18.626592Z"
    }
   },
   "outputs": [],
   "source": [
    "mylist = []\n",
    "\n",
    "for x in [2,4,6]:\n",
    "    for y in [100,200,300]:\n",
    "        mylist.append(x*y)"
   ]
  },
  {
   "cell_type": "code",
   "execution_count": 22,
   "id": "7b22f7663826f88d",
   "metadata": {
    "ExecuteTime": {
     "end_time": "2024-12-25T14:19:22.083966Z",
     "start_time": "2024-12-25T14:19:22.078886Z"
    }
   },
   "outputs": [
    {
     "data": {
      "text/plain": [
       "[200, 400, 600, 400, 800, 1200, 600, 1200, 1800]"
      ]
     },
     "execution_count": 22,
     "metadata": {},
     "output_type": "execute_result"
    }
   ],
   "source": [
    "mylist"
   ]
  },
  {
   "cell_type": "code",
   "execution_count": 23,
   "id": "b1d4edd357e7a60",
   "metadata": {
    "ExecuteTime": {
     "end_time": "2024-12-25T14:20:25.690137Z",
     "start_time": "2024-12-25T14:20:25.685483Z"
    }
   },
   "outputs": [],
   "source": [
    "mylist = [x*y for x in [2,4,6] for y in [100,200,300]]"
   ]
  },
  {
   "cell_type": "code",
   "execution_count": 24,
   "id": "f86953fc1c601f53",
   "metadata": {
    "ExecuteTime": {
     "end_time": "2024-12-25T14:20:28.496323Z",
     "start_time": "2024-12-25T14:20:28.490819Z"
    }
   },
   "outputs": [
    {
     "data": {
      "text/plain": [
       "[200, 400, 600, 400, 800, 1200, 600, 1200, 1800]"
      ]
     },
     "execution_count": 24,
     "metadata": {},
     "output_type": "execute_result"
    }
   ],
   "source": [
    "mylist"
   ]
  },
  {
   "cell_type": "code",
   "execution_count": 1,
   "id": "66fcc04925b178c",
   "metadata": {
    "ExecuteTime": {
     "end_time": "2024-12-25T14:20:52.448648Z",
     "start_time": "2024-12-25T14:20:52.444750Z"
    }
   },
   "outputs": [
    {
     "data": {
      "text/plain": [
       "[0, 1, 16, 81, 256, 625, 1296, 2401, 4096, 6561, 10000]"
      ]
     },
     "execution_count": 1,
     "metadata": {},
     "output_type": "execute_result"
    }
   ],
   "source": [
    "# decreases readability, so need to be careful\n",
    "\n",
    "lst = [ x**2 for x in [x**2 for x in range(11)]]\n",
    "lst"
   ]
  }
 ],
 "metadata": {
  "kernelspec": {
   "display_name": "Python 3",
   "language": "python",
   "name": "python3"
  },
  "language_info": {
   "codemirror_mode": {
    "name": "ipython",
    "version": 3
   },
   "file_extension": ".py",
   "mimetype": "text/x-python",
   "name": "python",
   "nbconvert_exporter": "python",
   "pygments_lexer": "ipython3",
   "version": "3.12.4"
  }
 },
 "nbformat": 4,
 "nbformat_minor": 5
}
