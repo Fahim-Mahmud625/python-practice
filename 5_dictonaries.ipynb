{
 "cells": [
  {
   "cell_type": "code",
   "id": "initial_id",
   "metadata": {
    "collapsed": true,
    "ExecuteTime": {
     "end_time": "2024-12-12T13:24:24.123675Z",
     "start_time": "2024-12-12T13:24:24.117608Z"
    }
   },
   "source": "my_dict = {'key1' : 'value1', 'key2' : 'value2'}",
   "outputs": [],
   "execution_count": 1
  },
  {
   "metadata": {
    "ExecuteTime": {
     "end_time": "2024-12-12T13:24:28.719305Z",
     "start_time": "2024-12-12T13:24:28.709506Z"
    }
   },
   "cell_type": "code",
   "source": "my_dict",
   "id": "e67ad849b8cf5d0e",
   "outputs": [
    {
     "data": {
      "text/plain": [
       "{'key1': 'value1', 'key2': 'value2'}"
      ]
     },
     "execution_count": 2,
     "metadata": {},
     "output_type": "execute_result"
    }
   ],
   "execution_count": 2
  },
  {
   "metadata": {
    "ExecuteTime": {
     "end_time": "2024-12-12T13:24:38.331725Z",
     "start_time": "2024-12-12T13:24:38.323241Z"
    }
   },
   "cell_type": "code",
   "source": "my_dict['key1']",
   "id": "eb7588043b9a70f5",
   "outputs": [
    {
     "data": {
      "text/plain": [
       "'value1'"
      ]
     },
     "execution_count": 3,
     "metadata": {},
     "output_type": "execute_result"
    }
   ],
   "execution_count": 3
  },
  {
   "metadata": {
    "ExecuteTime": {
     "end_time": "2024-12-12T13:25:21.495882Z",
     "start_time": "2024-12-12T13:25:21.492289Z"
    }
   },
   "cell_type": "code",
   "source": "price_lookup = {'apple' : 2.99, 'orange' : 1.99, 'milk' : 5.80}",
   "id": "3ff9197ef1223d69",
   "outputs": [],
   "execution_count": 4
  },
  {
   "metadata": {
    "ExecuteTime": {
     "end_time": "2024-12-12T13:25:29.118914Z",
     "start_time": "2024-12-12T13:25:29.111380Z"
    }
   },
   "cell_type": "code",
   "source": "price_lookup['apple']",
   "id": "b722d9b2bcc8a855",
   "outputs": [
    {
     "data": {
      "text/plain": [
       "2.99"
      ]
     },
     "execution_count": 5,
     "metadata": {},
     "output_type": "execute_result"
    }
   ],
   "execution_count": 5
  },
  {
   "metadata": {
    "ExecuteTime": {
     "end_time": "2024-12-12T13:26:54.837194Z",
     "start_time": "2024-12-12T13:26:54.832808Z"
    }
   },
   "cell_type": "code",
   "source": "d = {'k1' : 123, 'k2' : [0,1,2], 'k3' : {'insidekey' : 100}}",
   "id": "9062970795c18e9d",
   "outputs": [],
   "execution_count": 6
  },
  {
   "metadata": {
    "ExecuteTime": {
     "end_time": "2024-12-12T13:27:05.553151Z",
     "start_time": "2024-12-12T13:27:05.546683Z"
    }
   },
   "cell_type": "code",
   "source": "d['k2']",
   "id": "47a9906745895161",
   "outputs": [
    {
     "data": {
      "text/plain": [
       "[0, 1, 2]"
      ]
     },
     "execution_count": 8,
     "metadata": {},
     "output_type": "execute_result"
    }
   ],
   "execution_count": 8
  },
  {
   "metadata": {
    "ExecuteTime": {
     "end_time": "2024-12-12T13:27:18.238417Z",
     "start_time": "2024-12-12T13:27:18.231467Z"
    }
   },
   "cell_type": "code",
   "source": "d['k3']",
   "id": "999911368b4b473f",
   "outputs": [
    {
     "data": {
      "text/plain": [
       "{'insidekey': 100}"
      ]
     },
     "execution_count": 9,
     "metadata": {},
     "output_type": "execute_result"
    }
   ],
   "execution_count": 9
  },
  {
   "metadata": {
    "ExecuteTime": {
     "end_time": "2024-12-12T13:27:44.912168Z",
     "start_time": "2024-12-12T13:27:44.906141Z"
    }
   },
   "cell_type": "code",
   "source": "d['k3']['insidekey']",
   "id": "45a6d7eb3bc4f95b",
   "outputs": [
    {
     "data": {
      "text/plain": [
       "100"
      ]
     },
     "execution_count": 12,
     "metadata": {},
     "output_type": "execute_result"
    }
   ],
   "execution_count": 12
  },
  {
   "metadata": {
    "ExecuteTime": {
     "end_time": "2024-12-12T13:28:05.939012Z",
     "start_time": "2024-12-12T13:28:05.931594Z"
    }
   },
   "cell_type": "code",
   "source": "d['k2'][2]",
   "id": "2975471a5c93e8ef",
   "outputs": [
    {
     "data": {
      "text/plain": [
       "2"
      ]
     },
     "execution_count": 13,
     "metadata": {},
     "output_type": "execute_result"
    }
   ],
   "execution_count": 13
  },
  {
   "metadata": {
    "ExecuteTime": {
     "end_time": "2024-12-12T13:28:41.287627Z",
     "start_time": "2024-12-12T13:28:41.281687Z"
    }
   },
   "cell_type": "code",
   "source": "d = {'key1' : ['a', 'b', 'c']}",
   "id": "bf43030b6beb09c0",
   "outputs": [],
   "execution_count": 14
  },
  {
   "metadata": {
    "ExecuteTime": {
     "end_time": "2024-12-12T13:28:42.502694Z",
     "start_time": "2024-12-12T13:28:42.496681Z"
    }
   },
   "cell_type": "code",
   "source": "d",
   "id": "2eaad9446ef024fd",
   "outputs": [
    {
     "data": {
      "text/plain": [
       "{'key1': ['a', 'b', 'c']}"
      ]
     },
     "execution_count": 15,
     "metadata": {},
     "output_type": "execute_result"
    }
   ],
   "execution_count": 15
  },
  {
   "metadata": {
    "ExecuteTime": {
     "end_time": "2024-12-12T13:29:31.059688Z",
     "start_time": "2024-12-12T13:29:31.055202Z"
    }
   },
   "cell_type": "code",
   "source": "letter = d['key1'][2]",
   "id": "ffdfc3614d6bcc44",
   "outputs": [],
   "execution_count": 17
  },
  {
   "metadata": {
    "ExecuteTime": {
     "end_time": "2024-12-12T13:29:37.003093Z",
     "start_time": "2024-12-12T13:29:36.996165Z"
    }
   },
   "cell_type": "code",
   "source": "letter.upper()",
   "id": "fdba01c466561c9e",
   "outputs": [
    {
     "data": {
      "text/plain": [
       "'C'"
      ]
     },
     "execution_count": 18,
     "metadata": {},
     "output_type": "execute_result"
    }
   ],
   "execution_count": 18
  },
  {
   "metadata": {
    "ExecuteTime": {
     "end_time": "2024-12-12T13:30:02.306300Z",
     "start_time": "2024-12-12T13:30:02.299344Z"
    }
   },
   "cell_type": "code",
   "source": "d['key1'][2].upper()",
   "id": "bfe1281693b6f57c",
   "outputs": [
    {
     "data": {
      "text/plain": [
       "'C'"
      ]
     },
     "execution_count": 19,
     "metadata": {},
     "output_type": "execute_result"
    }
   ],
   "execution_count": 19
  },
  {
   "metadata": {
    "ExecuteTime": {
     "end_time": "2024-12-12T13:30:46.636158Z",
     "start_time": "2024-12-12T13:30:46.631917Z"
    }
   },
   "cell_type": "code",
   "source": "d = {'k1' : 100, 'k2' : 200}",
   "id": "be7596d2696076f6",
   "outputs": [],
   "execution_count": 20
  },
  {
   "metadata": {
    "ExecuteTime": {
     "end_time": "2024-12-12T13:30:58.587812Z",
     "start_time": "2024-12-12T13:30:58.582708Z"
    }
   },
   "cell_type": "code",
   "source": "d['k3'] = 300",
   "id": "f8d46c2499791201",
   "outputs": [],
   "execution_count": 21
  },
  {
   "metadata": {
    "ExecuteTime": {
     "end_time": "2024-12-12T13:31:00.975525Z",
     "start_time": "2024-12-12T13:31:00.970102Z"
    }
   },
   "cell_type": "code",
   "source": "d",
   "id": "6c13c1040259cc83",
   "outputs": [
    {
     "data": {
      "text/plain": [
       "{'k1': 100, 'k2': 200, 'k3': 300}"
      ]
     },
     "execution_count": 22,
     "metadata": {},
     "output_type": "execute_result"
    }
   ],
   "execution_count": 22
  },
  {
   "metadata": {
    "ExecuteTime": {
     "end_time": "2024-12-12T13:31:24.717220Z",
     "start_time": "2024-12-12T13:31:24.712606Z"
    }
   },
   "cell_type": "code",
   "source": "d['k1'] = 'New Value'",
   "id": "7220d58306ded089",
   "outputs": [],
   "execution_count": 23
  },
  {
   "metadata": {
    "ExecuteTime": {
     "end_time": "2024-12-12T13:31:26.495515Z",
     "start_time": "2024-12-12T13:31:26.489490Z"
    }
   },
   "cell_type": "code",
   "source": "d",
   "id": "75dffdc4ac472151",
   "outputs": [
    {
     "data": {
      "text/plain": [
       "{'k1': 'New Value', 'k2': 200, 'k3': 300}"
      ]
     },
     "execution_count": 24,
     "metadata": {},
     "output_type": "execute_result"
    }
   ],
   "execution_count": 24
  },
  {
   "metadata": {
    "ExecuteTime": {
     "end_time": "2024-12-12T13:31:53.467735Z",
     "start_time": "2024-12-12T13:31:53.463518Z"
    }
   },
   "cell_type": "code",
   "source": "d = {'k1': 100, 'k2': 200, 'k3': 300}",
   "id": "7f666bdc951a4111",
   "outputs": [],
   "execution_count": 25
  },
  {
   "metadata": {
    "ExecuteTime": {
     "end_time": "2024-12-12T13:32:05.909843Z",
     "start_time": "2024-12-12T13:32:05.902975Z"
    }
   },
   "cell_type": "code",
   "source": "d.keys()",
   "id": "f921dac09208ea42",
   "outputs": [
    {
     "data": {
      "text/plain": [
       "dict_keys(['k1', 'k2', 'k3'])"
      ]
     },
     "execution_count": 26,
     "metadata": {},
     "output_type": "execute_result"
    }
   ],
   "execution_count": 26
  },
  {
   "metadata": {
    "ExecuteTime": {
     "end_time": "2024-12-12T13:32:09.014308Z",
     "start_time": "2024-12-12T13:32:09.007335Z"
    }
   },
   "cell_type": "code",
   "source": "d.values()",
   "id": "a040705c290a0ae7",
   "outputs": [
    {
     "data": {
      "text/plain": [
       "dict_values([100, 200, 300])"
      ]
     },
     "execution_count": 27,
     "metadata": {},
     "output_type": "execute_result"
    }
   ],
   "execution_count": 27
  },
  {
   "metadata": {
    "ExecuteTime": {
     "end_time": "2024-12-12T13:32:16.260025Z",
     "start_time": "2024-12-12T13:32:16.253745Z"
    }
   },
   "cell_type": "code",
   "source": "d.items()",
   "id": "1f4d31b6dc17afba",
   "outputs": [
    {
     "data": {
      "text/plain": [
       "dict_items([('k1', 100), ('k2', 200), ('k3', 300)])"
      ]
     },
     "execution_count": 28,
     "metadata": {},
     "output_type": "execute_result"
    }
   ],
   "execution_count": 28
  },
  {
   "metadata": {},
   "cell_type": "code",
   "outputs": [],
   "execution_count": null,
   "source": "",
   "id": "7697048e2e98eaea"
  }
 ],
 "metadata": {
  "kernelspec": {
   "display_name": "Python 3",
   "language": "python",
   "name": "python3"
  },
  "language_info": {
   "codemirror_mode": {
    "name": "ipython",
    "version": 2
   },
   "file_extension": ".py",
   "mimetype": "text/x-python",
   "name": "python",
   "nbconvert_exporter": "python",
   "pygments_lexer": "ipython2",
   "version": "2.7.6"
  }
 },
 "nbformat": 4,
 "nbformat_minor": 5
}
