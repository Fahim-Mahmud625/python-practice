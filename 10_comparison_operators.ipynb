{
 "cells": [
  {
   "metadata": {
    "ExecuteTime": {
     "end_time": "2024-12-19T14:12:48.015469Z",
     "start_time": "2024-12-19T14:12:48.004609Z"
    }
   },
   "cell_type": "code",
   "source": "2 == 2",
   "id": "3996e20140087494",
   "outputs": [
    {
     "data": {
      "text/plain": [
       "True"
      ]
     },
     "execution_count": 2,
     "metadata": {},
     "output_type": "execute_result"
    }
   ],
   "execution_count": 2
  },
  {
   "metadata": {
    "ExecuteTime": {
     "end_time": "2024-12-19T14:12:52.407753Z",
     "start_time": "2024-12-19T14:12:52.400967Z"
    }
   },
   "cell_type": "code",
   "source": "2 == 1",
   "id": "772fe6c5a02537ee",
   "outputs": [
    {
     "data": {
      "text/plain": [
       "False"
      ]
     },
     "execution_count": 3,
     "metadata": {},
     "output_type": "execute_result"
    }
   ],
   "execution_count": 3
  },
  {
   "metadata": {
    "ExecuteTime": {
     "end_time": "2024-12-19T14:13:20.248086Z",
     "start_time": "2024-12-19T14:13:20.241301Z"
    }
   },
   "cell_type": "code",
   "source": "'hello' == 'bye'",
   "id": "eb91f878761533fa",
   "outputs": [
    {
     "data": {
      "text/plain": [
       "False"
      ]
     },
     "execution_count": 4,
     "metadata": {},
     "output_type": "execute_result"
    }
   ],
   "execution_count": 4
  },
  {
   "metadata": {
    "ExecuteTime": {
     "end_time": "2024-12-19T14:13:36.763852Z",
     "start_time": "2024-12-19T14:13:36.758228Z"
    }
   },
   "cell_type": "code",
   "source": "'Bye' == 'bye'",
   "id": "ba514f4ecc13e7ac",
   "outputs": [
    {
     "data": {
      "text/plain": [
       "False"
      ]
     },
     "execution_count": 6,
     "metadata": {},
     "output_type": "execute_result"
    }
   ],
   "execution_count": 6
  },
  {
   "metadata": {
    "ExecuteTime": {
     "end_time": "2024-12-19T14:13:43.263076Z",
     "start_time": "2024-12-19T14:13:43.256978Z"
    }
   },
   "cell_type": "code",
   "source": "'2' == 2",
   "id": "6a5bbee83767e87b",
   "outputs": [
    {
     "data": {
      "text/plain": [
       "False"
      ]
     },
     "execution_count": 7,
     "metadata": {},
     "output_type": "execute_result"
    }
   ],
   "execution_count": 7
  },
  {
   "metadata": {
    "ExecuteTime": {
     "end_time": "2024-12-19T14:13:47.771380Z",
     "start_time": "2024-12-19T14:13:47.766044Z"
    }
   },
   "cell_type": "code",
   "source": "2.0 == 2",
   "id": "fc9942f21ae07b33",
   "outputs": [
    {
     "data": {
      "text/plain": [
       "True"
      ]
     },
     "execution_count": 8,
     "metadata": {},
     "output_type": "execute_result"
    }
   ],
   "execution_count": 8
  },
  {
   "metadata": {
    "ExecuteTime": {
     "end_time": "2024-12-19T14:13:52.645501Z",
     "start_time": "2024-12-19T14:13:52.640313Z"
    }
   },
   "cell_type": "code",
   "source": "3 != 3",
   "id": "91d4ecc082ede9b4",
   "outputs": [
    {
     "data": {
      "text/plain": [
       "False"
      ]
     },
     "execution_count": 9,
     "metadata": {},
     "output_type": "execute_result"
    }
   ],
   "execution_count": 9
  },
  {
   "metadata": {
    "ExecuteTime": {
     "end_time": "2024-12-19T14:13:59.545327Z",
     "start_time": "2024-12-19T14:13:59.539888Z"
    }
   },
   "cell_type": "code",
   "source": "4 != 5",
   "id": "1e020f5e1c13fdac",
   "outputs": [
    {
     "data": {
      "text/plain": [
       "True"
      ]
     },
     "execution_count": 10,
     "metadata": {},
     "output_type": "execute_result"
    }
   ],
   "execution_count": 10
  },
  {
   "metadata": {
    "ExecuteTime": {
     "end_time": "2024-12-19T14:14:09.728957Z",
     "start_time": "2024-12-19T14:14:09.723482Z"
    }
   },
   "cell_type": "code",
   "source": "2 > 1",
   "id": "ea3db965809c6a8e",
   "outputs": [
    {
     "data": {
      "text/plain": [
       "True"
      ]
     },
     "execution_count": 11,
     "metadata": {},
     "output_type": "execute_result"
    }
   ],
   "execution_count": 11
  },
  {
   "metadata": {
    "ExecuteTime": {
     "end_time": "2024-12-19T14:14:12.242009Z",
     "start_time": "2024-12-19T14:14:12.236499Z"
    }
   },
   "cell_type": "code",
   "source": "1 > 2",
   "id": "c75879232089f6ff",
   "outputs": [
    {
     "data": {
      "text/plain": [
       "False"
      ]
     },
     "execution_count": 12,
     "metadata": {},
     "output_type": "execute_result"
    }
   ],
   "execution_count": 12
  },
  {
   "metadata": {
    "ExecuteTime": {
     "end_time": "2024-12-19T14:14:15.271961Z",
     "start_time": "2024-12-19T14:14:15.265333Z"
    }
   },
   "cell_type": "code",
   "source": "1 < 2",
   "id": "ce6b38f6f523ca84",
   "outputs": [
    {
     "data": {
      "text/plain": [
       "True"
      ]
     },
     "execution_count": 13,
     "metadata": {},
     "output_type": "execute_result"
    }
   ],
   "execution_count": 13
  },
  {
   "metadata": {
    "ExecuteTime": {
     "end_time": "2024-12-19T14:14:20.546251Z",
     "start_time": "2024-12-19T14:14:20.542097Z"
    }
   },
   "cell_type": "code",
   "source": "2 < 5",
   "id": "a7199830cfcbb764",
   "outputs": [
    {
     "data": {
      "text/plain": [
       "True"
      ]
     },
     "execution_count": 14,
     "metadata": {},
     "output_type": "execute_result"
    }
   ],
   "execution_count": 14
  },
  {
   "metadata": {
    "ExecuteTime": {
     "end_time": "2024-12-19T14:14:30.508700Z",
     "start_time": "2024-12-19T14:14:30.500835Z"
    }
   },
   "cell_type": "code",
   "source": "2 >= 2",
   "id": "51420c630d8bbad1",
   "outputs": [
    {
     "data": {
      "text/plain": [
       "True"
      ]
     },
     "execution_count": 15,
     "metadata": {},
     "output_type": "execute_result"
    }
   ],
   "execution_count": 15
  },
  {
   "metadata": {
    "ExecuteTime": {
     "end_time": "2024-12-19T14:14:39.699648Z",
     "start_time": "2024-12-19T14:14:39.693845Z"
    }
   },
   "cell_type": "code",
   "source": "4 <= 1",
   "id": "5ae17992539f0512",
   "outputs": [
    {
     "data": {
      "text/plain": [
       "False"
      ]
     },
     "execution_count": 16,
     "metadata": {},
     "output_type": "execute_result"
    }
   ],
   "execution_count": 16
  },
  {
   "metadata": {},
   "cell_type": "code",
   "outputs": [],
   "execution_count": null,
   "source": "",
   "id": "cecbcef43d0d941a"
  }
 ],
 "metadata": {
  "kernelspec": {
   "display_name": "Python 3",
   "language": "python",
   "name": "python3"
  },
  "language_info": {
   "codemirror_mode": {
    "name": "ipython",
    "version": 2
   },
   "file_extension": ".py",
   "mimetype": "text/x-python",
   "name": "python",
   "nbconvert_exporter": "python",
   "pygments_lexer": "ipython2",
   "version": "2.7.6"
  }
 },
 "nbformat": 4,
 "nbformat_minor": 5
}
