{
 "cells": [
  {
   "cell_type": "code",
   "id": "initial_id",
   "metadata": {
    "collapsed": true,
    "ExecuteTime": {
     "end_time": "2024-12-12T13:41:33.768361Z",
     "start_time": "2024-12-12T13:41:33.762507Z"
    }
   },
   "source": "myset = set()",
   "outputs": [],
   "execution_count": 1
  },
  {
   "metadata": {
    "ExecuteTime": {
     "end_time": "2024-12-12T13:41:37.149923Z",
     "start_time": "2024-12-12T13:41:37.140139Z"
    }
   },
   "cell_type": "code",
   "source": "myset",
   "id": "b820f78dcc5f870a",
   "outputs": [
    {
     "data": {
      "text/plain": [
       "set()"
      ]
     },
     "execution_count": 2,
     "metadata": {},
     "output_type": "execute_result"
    }
   ],
   "execution_count": 2
  },
  {
   "metadata": {
    "ExecuteTime": {
     "end_time": "2024-12-12T13:41:43.209535Z",
     "start_time": "2024-12-12T13:41:43.205236Z"
    }
   },
   "cell_type": "code",
   "source": "myset.add(1)",
   "id": "d0f0cbb95369232d",
   "outputs": [],
   "execution_count": 3
  },
  {
   "metadata": {
    "ExecuteTime": {
     "end_time": "2024-12-12T13:41:48.088698Z",
     "start_time": "2024-12-12T13:41:48.081097Z"
    }
   },
   "cell_type": "code",
   "source": "myset",
   "id": "c3de4ea4311baa4c",
   "outputs": [
    {
     "data": {
      "text/plain": [
       "{1}"
      ]
     },
     "execution_count": 4,
     "metadata": {},
     "output_type": "execute_result"
    }
   ],
   "execution_count": 4
  },
  {
   "metadata": {
    "ExecuteTime": {
     "end_time": "2024-12-12T13:42:03.637050Z",
     "start_time": "2024-12-12T13:42:03.629048Z"
    }
   },
   "cell_type": "code",
   "source": [
    "myset.add(2)\n",
    "myset"
   ],
   "id": "ba246fd3a08b901e",
   "outputs": [
    {
     "data": {
      "text/plain": [
       "{1, 2}"
      ]
     },
     "execution_count": 5,
     "metadata": {},
     "output_type": "execute_result"
    }
   ],
   "execution_count": 5
  },
  {
   "metadata": {
    "ExecuteTime": {
     "end_time": "2024-12-12T13:42:24.142990Z",
     "start_time": "2024-12-12T13:42:24.136814Z"
    }
   },
   "cell_type": "code",
   "source": "myset.add(2)",
   "id": "bb9cc4f032a05637",
   "outputs": [],
   "execution_count": 6
  },
  {
   "metadata": {
    "ExecuteTime": {
     "end_time": "2024-12-12T13:42:27.789663Z",
     "start_time": "2024-12-12T13:42:27.781869Z"
    }
   },
   "cell_type": "code",
   "source": "myset",
   "id": "d95fd578d6d23e6a",
   "outputs": [
    {
     "data": {
      "text/plain": [
       "{1, 2}"
      ]
     },
     "execution_count": 7,
     "metadata": {},
     "output_type": "execute_result"
    }
   ],
   "execution_count": 7
  },
  {
   "metadata": {
    "ExecuteTime": {
     "end_time": "2024-12-12T13:43:56.129562Z",
     "start_time": "2024-12-12T13:43:56.125342Z"
    }
   },
   "cell_type": "code",
   "source": "mylist = [1,1,1,1,1,1,1,2,2,2,2,2,3,3,3,3,3]",
   "id": "4b42b7d4ab7e8c7f",
   "outputs": [],
   "execution_count": 10
  },
  {
   "metadata": {
    "ExecuteTime": {
     "end_time": "2024-12-12T13:43:58.429965Z",
     "start_time": "2024-12-12T13:43:58.423120Z"
    }
   },
   "cell_type": "code",
   "source": "set(mylist)",
   "id": "daebe5cfe87c6fc7",
   "outputs": [
    {
     "data": {
      "text/plain": [
       "{1, 2, 3}"
      ]
     },
     "execution_count": 11,
     "metadata": {},
     "output_type": "execute_result"
    }
   ],
   "execution_count": 11
  },
  {
   "metadata": {
    "ExecuteTime": {
     "end_time": "2024-12-12T13:44:09.068778Z",
     "start_time": "2024-12-12T13:44:09.063492Z"
    }
   },
   "cell_type": "code",
   "source": "# Booleans",
   "id": "8a6f81112181f207",
   "outputs": [],
   "execution_count": 12
  },
  {
   "metadata": {
    "ExecuteTime": {
     "end_time": "2024-12-12T13:45:34.415077Z",
     "start_time": "2024-12-12T13:45:34.408244Z"
    }
   },
   "cell_type": "code",
   "source": "True # not true",
   "id": "6e3ad8b786b4d321",
   "outputs": [
    {
     "data": {
      "text/plain": [
       "True"
      ]
     },
     "execution_count": 13,
     "metadata": {},
     "output_type": "execute_result"
    }
   ],
   "execution_count": 13
  },
  {
   "metadata": {
    "ExecuteTime": {
     "end_time": "2024-12-12T13:45:38.164855Z",
     "start_time": "2024-12-12T13:45:38.158029Z"
    }
   },
   "cell_type": "code",
   "source": "False",
   "id": "381c49bd5b0b1861",
   "outputs": [
    {
     "data": {
      "text/plain": [
       "False"
      ]
     },
     "execution_count": 14,
     "metadata": {},
     "output_type": "execute_result"
    }
   ],
   "execution_count": 14
  },
  {
   "metadata": {
    "ExecuteTime": {
     "end_time": "2024-12-12T13:45:46.908209Z",
     "start_time": "2024-12-12T13:45:46.902483Z"
    }
   },
   "cell_type": "code",
   "source": "type(False)",
   "id": "35b1ad28674d6c36",
   "outputs": [
    {
     "data": {
      "text/plain": [
       "bool"
      ]
     },
     "execution_count": 15,
     "metadata": {},
     "output_type": "execute_result"
    }
   ],
   "execution_count": 15
  },
  {
   "metadata": {
    "ExecuteTime": {
     "end_time": "2024-12-12T13:46:01.207296Z",
     "start_time": "2024-12-12T13:46:01.200948Z"
    }
   },
   "cell_type": "code",
   "source": "1 > 2",
   "id": "91ee73e5059b4021",
   "outputs": [
    {
     "data": {
      "text/plain": [
       "False"
      ]
     },
     "execution_count": 16,
     "metadata": {},
     "output_type": "execute_result"
    }
   ],
   "execution_count": 16
  },
  {
   "metadata": {
    "ExecuteTime": {
     "end_time": "2024-12-12T13:46:15.599923Z",
     "start_time": "2024-12-12T13:46:15.593005Z"
    }
   },
   "cell_type": "code",
   "source": "1 == 1",
   "id": "4fb0c6ea9d9a184b",
   "outputs": [
    {
     "data": {
      "text/plain": [
       "True"
      ]
     },
     "execution_count": 17,
     "metadata": {},
     "output_type": "execute_result"
    }
   ],
   "execution_count": 17
  },
  {
   "metadata": {
    "ExecuteTime": {
     "end_time": "2024-12-12T13:47:05.600239Z",
     "start_time": "2024-12-12T13:47:05.595495Z"
    }
   },
   "cell_type": "code",
   "source": "b = None # later it will be defined",
   "id": "654396543d8a2e8a",
   "outputs": [],
   "execution_count": 19
  },
  {
   "metadata": {
    "ExecuteTime": {
     "end_time": "2024-12-12T13:47:07.104945Z",
     "start_time": "2024-12-12T13:47:07.100474Z"
    }
   },
   "cell_type": "code",
   "source": "b",
   "id": "d44b88f709026381",
   "outputs": [],
   "execution_count": 20
  }
 ],
 "metadata": {
  "kernelspec": {
   "display_name": "Python 3",
   "language": "python",
   "name": "python3"
  },
  "language_info": {
   "codemirror_mode": {
    "name": "ipython",
    "version": 2
   },
   "file_extension": ".py",
   "mimetype": "text/x-python",
   "name": "python",
   "nbconvert_exporter": "python",
   "pygments_lexer": "ipython2",
   "version": "2.7.6"
  }
 },
 "nbformat": 4,
 "nbformat_minor": 5
}
