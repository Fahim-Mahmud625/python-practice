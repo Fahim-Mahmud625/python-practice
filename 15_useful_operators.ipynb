{
 "cells": [
  {
   "cell_type": "code",
   "id": "initial_id",
   "metadata": {
    "collapsed": true,
    "ExecuteTime": {
     "end_time": "2024-12-24T14:37:43.025373Z",
     "start_time": "2024-12-24T14:37:43.020344Z"
    }
   },
   "source": "mylist = [1,2,3]",
   "outputs": [],
   "execution_count": 1
  },
  {
   "metadata": {
    "ExecuteTime": {
     "end_time": "2024-12-24T14:38:42.221784Z",
     "start_time": "2024-12-24T14:38:42.215174Z"
    }
   },
   "cell_type": "code",
   "source": [
    "for num in range(10):\n",
    "    print(num)"
   ],
   "id": "fc51cbe6fd022ffb",
   "outputs": [
    {
     "name": "stdout",
     "output_type": "stream",
     "text": [
      "0\n",
      "1\n",
      "2\n",
      "3\n",
      "4\n",
      "5\n",
      "6\n",
      "7\n",
      "8\n",
      "9\n"
     ]
    }
   ],
   "execution_count": 3
  },
  {
   "metadata": {
    "ExecuteTime": {
     "end_time": "2024-12-24T14:39:06.963480Z",
     "start_time": "2024-12-24T14:39:06.957504Z"
    }
   },
   "cell_type": "code",
   "source": [
    "for num in range(3,10):\n",
    "    print(num)"
   ],
   "id": "8d1589a188bb33c8",
   "outputs": [
    {
     "name": "stdout",
     "output_type": "stream",
     "text": [
      "3\n",
      "4\n",
      "5\n",
      "6\n",
      "7\n",
      "8\n",
      "9\n"
     ]
    }
   ],
   "execution_count": 4
  },
  {
   "metadata": {
    "ExecuteTime": {
     "end_time": "2024-12-24T14:39:23.251348Z",
     "start_time": "2024-12-24T14:39:23.245868Z"
    }
   },
   "cell_type": "code",
   "source": [
    "for num in range(0,10,2):\n",
    "    print(num)"
   ],
   "id": "25271766515c7a59",
   "outputs": [
    {
     "name": "stdout",
     "output_type": "stream",
     "text": [
      "0\n",
      "2\n",
      "4\n",
      "6\n",
      "8\n"
     ]
    }
   ],
   "execution_count": 5
  },
  {
   "metadata": {
    "ExecuteTime": {
     "end_time": "2024-12-24T14:40:17.490315Z",
     "start_time": "2024-12-24T14:40:17.482469Z"
    }
   },
   "cell_type": "code",
   "source": "list(range(0,10,2))",
   "id": "1c84251a61aff434",
   "outputs": [
    {
     "data": {
      "text/plain": [
       "[0, 2, 4, 6, 8]"
      ]
     },
     "execution_count": 7,
     "metadata": {},
     "output_type": "execute_result"
    }
   ],
   "execution_count": 7
  },
  {
   "metadata": {
    "ExecuteTime": {
     "end_time": "2024-12-24T14:41:42.935274Z",
     "start_time": "2024-12-24T14:41:42.928200Z"
    }
   },
   "cell_type": "code",
   "source": [
    "index_count = 0\n",
    "\n",
    "for letter in 'abcde':\n",
    "    print('At index {} the letter is {}'.format(index_count, letter))\n",
    "    index_count += 1"
   ],
   "id": "dee117a8726f549f",
   "outputs": [
    {
     "name": "stdout",
     "output_type": "stream",
     "text": [
      "At index 0 the letter is a\n",
      "At index 1 the letter is b\n",
      "At index 2 the letter is c\n",
      "At index 3 the letter is d\n",
      "At index 4 the letter is e\n"
     ]
    }
   ],
   "execution_count": 8
  },
  {
   "metadata": {
    "ExecuteTime": {
     "end_time": "2024-12-24T14:42:50.998016Z",
     "start_time": "2024-12-24T14:42:50.991481Z"
    }
   },
   "cell_type": "code",
   "source": [
    "index_count = 0\n",
    "word = 'abcde'\n",
    "for letter in word:\n",
    "    print(word[index_count])\n",
    "    index_count += 1"
   ],
   "id": "97a816609179b468",
   "outputs": [
    {
     "name": "stdout",
     "output_type": "stream",
     "text": [
      "a\n",
      "b\n",
      "c\n",
      "d\n",
      "e\n"
     ]
    }
   ],
   "execution_count": 9
  },
  {
   "metadata": {
    "ExecuteTime": {
     "end_time": "2024-12-24T14:45:00.517636Z",
     "start_time": "2024-12-24T14:45:00.511707Z"
    }
   },
   "cell_type": "code",
   "source": [
    "for index,letter in enumerate(word):\n",
    "    print(index)\n",
    "    print(letter)\n",
    "    print('\\n')"
   ],
   "id": "c4f27a821d80d1db",
   "outputs": [
    {
     "name": "stdout",
     "output_type": "stream",
     "text": [
      "0\n",
      "a\n",
      "\n",
      "\n",
      "1\n",
      "b\n",
      "\n",
      "\n",
      "2\n",
      "c\n",
      "\n",
      "\n",
      "3\n",
      "d\n",
      "\n",
      "\n",
      "4\n",
      "e\n",
      "\n",
      "\n"
     ]
    }
   ],
   "execution_count": 12
  },
  {
   "metadata": {
    "ExecuteTime": {
     "end_time": "2024-12-24T14:48:12.193726Z",
     "start_time": "2024-12-24T14:48:12.186728Z"
    }
   },
   "cell_type": "code",
   "source": [
    "my_list1 = [1,2,3]\n",
    "my_list2 = ['a','b','c']\n",
    "mylist3 = [100,200,300]\n",
    "\n",
    "for a,b,c in zip(my_list1, my_list2,mylist3):\n",
    "    print(a)\n",
    "    print(b)\n",
    "    print(c)\n"
   ],
   "id": "a0822eb452ec115a",
   "outputs": [
    {
     "name": "stdout",
     "output_type": "stream",
     "text": [
      "1\n",
      "a\n",
      "100\n",
      "2\n",
      "b\n",
      "200\n",
      "3\n",
      "c\n",
      "300\n"
     ]
    }
   ],
   "execution_count": 16
  },
  {
   "metadata": {
    "ExecuteTime": {
     "end_time": "2024-12-24T14:48:30.992045Z",
     "start_time": "2024-12-24T14:48:30.985460Z"
    }
   },
   "cell_type": "code",
   "source": [
    "my_list1 = [1,2,3,4,5] #ignores the extra\n",
    "my_list2 = ['a','b','c']\n",
    "mylist3 = [100,200,300]\n",
    "\n",
    "for a,b,c in zip(my_list1, my_list2,mylist3):\n",
    "    print(a)\n",
    "    print(b)\n",
    "    print(c)"
   ],
   "id": "49044b05873e904e",
   "outputs": [
    {
     "name": "stdout",
     "output_type": "stream",
     "text": [
      "1\n",
      "a\n",
      "100\n",
      "2\n",
      "b\n",
      "200\n",
      "3\n",
      "c\n",
      "300\n"
     ]
    }
   ],
   "execution_count": 17
  },
  {
   "metadata": {
    "ExecuteTime": {
     "end_time": "2024-12-24T14:49:09.028193Z",
     "start_time": "2024-12-24T14:49:09.022240Z"
    }
   },
   "cell_type": "code",
   "source": "list(zip(my_list1, my_list2,mylist3))",
   "id": "3bbf22a8739a96f9",
   "outputs": [
    {
     "data": {
      "text/plain": [
       "[(1, 'a', 100), (2, 'b', 200), (3, 'c', 300)]"
      ]
     },
     "execution_count": 18,
     "metadata": {},
     "output_type": "execute_result"
    }
   ],
   "execution_count": 18
  },
  {
   "metadata": {
    "ExecuteTime": {
     "end_time": "2024-12-24T14:49:52.165763Z",
     "start_time": "2024-12-24T14:49:52.158860Z"
    }
   },
   "cell_type": "code",
   "source": "'x' in [1,2,3]",
   "id": "10b77710135126ce",
   "outputs": [
    {
     "data": {
      "text/plain": [
       "False"
      ]
     },
     "execution_count": 19,
     "metadata": {},
     "output_type": "execute_result"
    }
   ],
   "execution_count": 19
  },
  {
   "metadata": {
    "ExecuteTime": {
     "end_time": "2024-12-24T14:50:05.089054Z",
     "start_time": "2024-12-24T14:50:05.082061Z"
    }
   },
   "cell_type": "code",
   "source": "'x' in ['x','y','z']",
   "id": "1255d04ba9498dcd",
   "outputs": [
    {
     "data": {
      "text/plain": [
       "True"
      ]
     },
     "execution_count": 20,
     "metadata": {},
     "output_type": "execute_result"
    }
   ],
   "execution_count": 20
  },
  {
   "metadata": {
    "ExecuteTime": {
     "end_time": "2024-12-24T14:50:30.285904Z",
     "start_time": "2024-12-24T14:50:30.280257Z"
    }
   },
   "cell_type": "code",
   "source": "'a' in 'a world'",
   "id": "d437a40069738b49",
   "outputs": [
    {
     "data": {
      "text/plain": [
       "True"
      ]
     },
     "execution_count": 21,
     "metadata": {},
     "output_type": "execute_result"
    }
   ],
   "execution_count": 21
  },
  {
   "metadata": {
    "ExecuteTime": {
     "end_time": "2024-12-24T14:50:47.527075Z",
     "start_time": "2024-12-24T14:50:47.520473Z"
    }
   },
   "cell_type": "code",
   "source": "'mykey' in {'mykey':345}",
   "id": "7ee019015652e0d0",
   "outputs": [
    {
     "data": {
      "text/plain": [
       "True"
      ]
     },
     "execution_count": 22,
     "metadata": {},
     "output_type": "execute_result"
    }
   ],
   "execution_count": 22
  },
  {
   "metadata": {
    "ExecuteTime": {
     "end_time": "2024-12-24T14:51:07.282712Z",
     "start_time": "2024-12-24T14:51:07.274263Z"
    }
   },
   "cell_type": "code",
   "source": [
    "d = {'mykey':345}\n",
    "\n",
    "345 in d.values()"
   ],
   "id": "8bbd141f77c39360",
   "outputs": [
    {
     "data": {
      "text/plain": [
       "True"
      ]
     },
     "execution_count": 23,
     "metadata": {},
     "output_type": "execute_result"
    }
   ],
   "execution_count": 23
  },
  {
   "metadata": {
    "ExecuteTime": {
     "end_time": "2024-12-24T14:51:45.059487Z",
     "start_time": "2024-12-24T14:51:45.054214Z"
    }
   },
   "cell_type": "code",
   "source": "my_list = [10,20,30,40,100]",
   "id": "14224d77ef4c6294",
   "outputs": [],
   "execution_count": 25
  },
  {
   "metadata": {
    "ExecuteTime": {
     "end_time": "2024-12-24T14:51:45.481481Z",
     "start_time": "2024-12-24T14:51:45.473994Z"
    }
   },
   "cell_type": "code",
   "source": "min(my_list)",
   "id": "60ab319386fe16f5",
   "outputs": [
    {
     "data": {
      "text/plain": [
       "10"
      ]
     },
     "execution_count": 26,
     "metadata": {},
     "output_type": "execute_result"
    }
   ],
   "execution_count": 26
  },
  {
   "metadata": {
    "ExecuteTime": {
     "end_time": "2024-12-24T14:51:50.326715Z",
     "start_time": "2024-12-24T14:51:50.319439Z"
    }
   },
   "cell_type": "code",
   "source": "max(my_list)",
   "id": "8639d1c96a5b32e",
   "outputs": [
    {
     "data": {
      "text/plain": [
       "100"
      ]
     },
     "execution_count": 27,
     "metadata": {},
     "output_type": "execute_result"
    }
   ],
   "execution_count": 27
  },
  {
   "metadata": {
    "ExecuteTime": {
     "end_time": "2024-12-24T14:52:42.103331Z",
     "start_time": "2024-12-24T14:52:42.098010Z"
    }
   },
   "cell_type": "code",
   "source": "from random import shuffle",
   "id": "e40a2421bf568913",
   "outputs": [],
   "execution_count": 28
  },
  {
   "metadata": {
    "ExecuteTime": {
     "end_time": "2024-12-24T14:53:02.148952Z",
     "start_time": "2024-12-24T14:53:02.143374Z"
    }
   },
   "cell_type": "code",
   "source": "my_list = [1,2,3,4,5,6,7,8,9,10]",
   "id": "4c26a0b218245c08",
   "outputs": [],
   "execution_count": 29
  },
  {
   "metadata": {
    "ExecuteTime": {
     "end_time": "2024-12-24T14:53:05.284322Z",
     "start_time": "2024-12-24T14:53:05.279178Z"
    }
   },
   "cell_type": "code",
   "source": "shuffle(my_list)",
   "id": "437db016058f1dca",
   "outputs": [],
   "execution_count": 30
  },
  {
   "metadata": {
    "ExecuteTime": {
     "end_time": "2024-12-24T14:53:10.770927Z",
     "start_time": "2024-12-24T14:53:10.763214Z"
    }
   },
   "cell_type": "code",
   "source": "my_list",
   "id": "4c3d7903ddaa23b2",
   "outputs": [
    {
     "data": {
      "text/plain": [
       "[8, 7, 1, 9, 6, 10, 2, 3, 4, 5]"
      ]
     },
     "execution_count": 31,
     "metadata": {},
     "output_type": "execute_result"
    }
   ],
   "execution_count": 31
  },
  {
   "metadata": {
    "ExecuteTime": {
     "end_time": "2024-12-24T14:53:55.860891Z",
     "start_time": "2024-12-24T14:53:55.855158Z"
    }
   },
   "cell_type": "code",
   "source": "from random import randint",
   "id": "8682c01a411d16ed",
   "outputs": [],
   "execution_count": 32
  },
  {
   "metadata": {
    "ExecuteTime": {
     "end_time": "2024-12-24T14:54:19.617358Z",
     "start_time": "2024-12-24T14:54:19.610568Z"
    }
   },
   "cell_type": "code",
   "source": "randint(0,100)",
   "id": "350c7a968c5626a5",
   "outputs": [
    {
     "data": {
      "text/plain": [
       "66"
      ]
     },
     "execution_count": 33,
     "metadata": {},
     "output_type": "execute_result"
    }
   ],
   "execution_count": 33
  },
  {
   "metadata": {
    "ExecuteTime": {
     "end_time": "2024-12-24T14:54:51.062136Z",
     "start_time": "2024-12-24T14:54:51.056821Z"
    }
   },
   "cell_type": "code",
   "source": "mynum = randint(0,100)",
   "id": "3923056e0fd8ec59",
   "outputs": [],
   "execution_count": 34
  },
  {
   "metadata": {
    "ExecuteTime": {
     "end_time": "2024-12-24T14:54:56.186972Z",
     "start_time": "2024-12-24T14:54:56.180413Z"
    }
   },
   "cell_type": "code",
   "source": "mynum",
   "id": "4026977f2971ccd0",
   "outputs": [
    {
     "data": {
      "text/plain": [
       "96"
      ]
     },
     "execution_count": 35,
     "metadata": {},
     "output_type": "execute_result"
    }
   ],
   "execution_count": 35
  },
  {
   "metadata": {
    "ExecuteTime": {
     "end_time": "2024-12-24T14:55:49.370604Z",
     "start_time": "2024-12-24T14:55:43.306401Z"
    }
   },
   "cell_type": "code",
   "source": "result = input('What is your name? ')",
   "id": "18f08fd34c446958",
   "outputs": [],
   "execution_count": 36
  },
  {
   "metadata": {
    "ExecuteTime": {
     "end_time": "2024-12-24T14:55:53.200017Z",
     "start_time": "2024-12-24T14:55:53.194257Z"
    }
   },
   "cell_type": "code",
   "source": "result",
   "id": "a62a89e62ab60431",
   "outputs": [
    {
     "data": {
      "text/plain": [
       "'Fahim'"
      ]
     },
     "execution_count": 37,
     "metadata": {},
     "output_type": "execute_result"
    }
   ],
   "execution_count": 37
  },
  {
   "metadata": {
    "ExecuteTime": {
     "end_time": "2024-12-24T14:56:27.283296Z",
     "start_time": "2024-12-24T14:56:22.273378Z"
    }
   },
   "cell_type": "code",
   "source": [
    "result = input('Favorite number? ')\n",
    "result"
   ],
   "id": "58696bd54c8b353c",
   "outputs": [
    {
     "data": {
      "text/plain": [
       "'30'"
      ]
     },
     "execution_count": 38,
     "metadata": {},
     "output_type": "execute_result"
    }
   ],
   "execution_count": 38
  },
  {
   "metadata": {
    "ExecuteTime": {
     "end_time": "2024-12-24T14:56:31.913993Z",
     "start_time": "2024-12-24T14:56:31.907545Z"
    }
   },
   "cell_type": "code",
   "source": "type(result)",
   "id": "6a92db76defbebe6",
   "outputs": [
    {
     "data": {
      "text/plain": [
       "str"
      ]
     },
     "execution_count": 39,
     "metadata": {},
     "output_type": "execute_result"
    }
   ],
   "execution_count": 39
  },
  {
   "metadata": {
    "ExecuteTime": {
     "end_time": "2024-12-24T14:56:39.854916Z",
     "start_time": "2024-12-24T14:56:39.846788Z"
    }
   },
   "cell_type": "code",
   "source": "int(result)",
   "id": "9ea0ad66f17ca1dc",
   "outputs": [
    {
     "data": {
      "text/plain": [
       "30"
      ]
     },
     "execution_count": 41,
     "metadata": {},
     "output_type": "execute_result"
    }
   ],
   "execution_count": 41
  },
  {
   "metadata": {
    "ExecuteTime": {
     "end_time": "2024-12-24T14:56:42.800516Z",
     "start_time": "2024-12-24T14:56:42.794972Z"
    }
   },
   "cell_type": "code",
   "source": "float(result)",
   "id": "2240af3a09f35160",
   "outputs": [
    {
     "data": {
      "text/plain": [
       "30.0"
      ]
     },
     "execution_count": 42,
     "metadata": {},
     "output_type": "execute_result"
    }
   ],
   "execution_count": 42
  },
  {
   "metadata": {
    "ExecuteTime": {
     "end_time": "2024-12-24T14:57:33.379037Z",
     "start_time": "2024-12-24T14:57:28.868111Z"
    }
   },
   "cell_type": "code",
   "source": [
    "result = int(input('Favorite number? '))\n",
    "result"
   ],
   "id": "97a70ecccb744232",
   "outputs": [
    {
     "data": {
      "text/plain": [
       "7"
      ]
     },
     "execution_count": 44,
     "metadata": {},
     "output_type": "execute_result"
    }
   ],
   "execution_count": 44
  },
  {
   "metadata": {
    "ExecuteTime": {
     "end_time": "2024-12-24T14:57:35.099568Z",
     "start_time": "2024-12-24T14:57:35.092735Z"
    }
   },
   "cell_type": "code",
   "source": "type(result)",
   "id": "1b7f888bb6348f02",
   "outputs": [
    {
     "data": {
      "text/plain": [
       "int"
      ]
     },
     "execution_count": 45,
     "metadata": {},
     "output_type": "execute_result"
    }
   ],
   "execution_count": 45
  },
  {
   "metadata": {},
   "cell_type": "code",
   "outputs": [],
   "execution_count": null,
   "source": "",
   "id": "f0e4ab13687b41b9"
  }
 ],
 "metadata": {
  "kernelspec": {
   "display_name": "Python 3",
   "language": "python",
   "name": "python3"
  },
  "language_info": {
   "codemirror_mode": {
    "name": "ipython",
    "version": 2
   },
   "file_extension": ".py",
   "mimetype": "text/x-python",
   "name": "python",
   "nbconvert_exporter": "python",
   "pygments_lexer": "ipython2",
   "version": "2.7.6"
  }
 },
 "nbformat": 4,
 "nbformat_minor": 5
}
