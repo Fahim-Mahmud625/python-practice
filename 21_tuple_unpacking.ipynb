{
 "cells": [
  {
   "cell_type": "code",
   "id": "initial_id",
   "metadata": {
    "collapsed": true,
    "ExecuteTime": {
     "end_time": "2025-01-04T15:09:54.640390Z",
     "start_time": "2025-01-04T15:09:54.635097Z"
    }
   },
   "source": "stock_prices = [('APPL',200),('GOOG',400),('MSFT',100)]",
   "outputs": [],
   "execution_count": 7
  },
  {
   "metadata": {
    "ExecuteTime": {
     "end_time": "2025-01-04T15:09:55.320331Z",
     "start_time": "2025-01-04T15:09:55.314280Z"
    }
   },
   "cell_type": "code",
   "source": [
    "for item in stock_prices:\n",
    "    print(item)"
   ],
   "id": "c01eb703e1470155",
   "outputs": [
    {
     "name": "stdout",
     "output_type": "stream",
     "text": [
      "('APPL', 200)\n",
      "('GOOG', 400)\n",
      "('MSFT', 100)\n"
     ]
    }
   ],
   "execution_count": 8
  },
  {
   "metadata": {
    "ExecuteTime": {
     "end_time": "2025-01-04T15:10:27.907160Z",
     "start_time": "2025-01-04T15:10:27.901839Z"
    }
   },
   "cell_type": "code",
   "source": [
    "for ticker, price in stock_prices:\n",
    "    print(price+(0.1*price))"
   ],
   "id": "b9be10177170d6f",
   "outputs": [
    {
     "name": "stdout",
     "output_type": "stream",
     "text": [
      "220.0\n",
      "440.0\n",
      "110.0\n"
     ]
    }
   ],
   "execution_count": 9
  },
  {
   "metadata": {
    "ExecuteTime": {
     "end_time": "2025-01-04T15:11:21.998335Z",
     "start_time": "2025-01-04T15:11:21.994141Z"
    }
   },
   "cell_type": "code",
   "source": "work_hours = [('Abby',100),('Billy',400),('Cassie',800)]",
   "id": "c0c5eb8a1564d1ab",
   "outputs": [],
   "execution_count": 10
  },
  {
   "metadata": {
    "ExecuteTime": {
     "end_time": "2025-01-04T15:14:25.420673Z",
     "start_time": "2025-01-04T15:14:25.414292Z"
    }
   },
   "cell_type": "code",
   "source": [
    "def employee_check(work_hours):\n",
    "    current_max = 0\n",
    "    employee_of_month = ''\n",
    "    for employee,hours in work_hours:\n",
    "        if hours > current_max:\n",
    "            current_max = hours\n",
    "            employee_of_month = employee\n",
    "        else:\n",
    "            pass\n",
    "    return (current_max,employee_of_month)"
   ],
   "id": "47fee54eb0674d9c",
   "outputs": [],
   "execution_count": 11
  },
  {
   "metadata": {
    "ExecuteTime": {
     "end_time": "2025-01-04T15:14:30.829083Z",
     "start_time": "2025-01-04T15:14:30.820177Z"
    }
   },
   "cell_type": "code",
   "source": "employee_check(work_hours)",
   "id": "15eb78493a7e2812",
   "outputs": [
    {
     "data": {
      "text/plain": [
       "(800, 'Cassie')"
      ]
     },
     "execution_count": 12,
     "metadata": {},
     "output_type": "execute_result"
    }
   ],
   "execution_count": 12
  },
  {
   "metadata": {
    "ExecuteTime": {
     "end_time": "2025-01-04T15:16:18.692887Z",
     "start_time": "2025-01-04T15:16:18.688036Z"
    }
   },
   "cell_type": "code",
   "source": "name,hours = employee_check(work_hours)",
   "id": "e322930eccc64449",
   "outputs": [],
   "execution_count": 16
  },
  {
   "metadata": {
    "ExecuteTime": {
     "end_time": "2025-01-04T15:16:20.396352Z",
     "start_time": "2025-01-04T15:16:20.389299Z"
    }
   },
   "cell_type": "code",
   "source": "name",
   "id": "a1c5dace31dd1333",
   "outputs": [
    {
     "data": {
      "text/plain": [
       "800"
      ]
     },
     "execution_count": 17,
     "metadata": {},
     "output_type": "execute_result"
    }
   ],
   "execution_count": 17
  },
  {
   "metadata": {
    "ExecuteTime": {
     "end_time": "2025-01-04T15:16:23.570656Z",
     "start_time": "2025-01-04T15:16:23.564593Z"
    }
   },
   "cell_type": "code",
   "source": "hours",
   "id": "98d90bf4292816fa",
   "outputs": [
    {
     "data": {
      "text/plain": [
       "'Cassie'"
      ]
     },
     "execution_count": 18,
     "metadata": {},
     "output_type": "execute_result"
    }
   ],
   "execution_count": 18
  }
 ],
 "metadata": {
  "kernelspec": {
   "display_name": "Python 3",
   "language": "python",
   "name": "python3"
  },
  "language_info": {
   "codemirror_mode": {
    "name": "ipython",
    "version": 2
   },
   "file_extension": ".py",
   "mimetype": "text/x-python",
   "name": "python",
   "nbconvert_exporter": "python",
   "pygments_lexer": "ipython2",
   "version": "2.7.6"
  }
 },
 "nbformat": 4,
 "nbformat_minor": 5
}
