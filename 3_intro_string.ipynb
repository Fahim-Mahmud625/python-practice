{
 "cells": [
  {
   "cell_type": "code",
   "id": "initial_id",
   "metadata": {
    "collapsed": true,
    "ExecuteTime": {
     "end_time": "2024-12-10T13:57:07.367479Z",
     "start_time": "2024-12-10T13:57:07.357250Z"
    }
   },
   "source": [
    "from soupsieve.css_types import Immutable\n",
    "\n",
    "'hello'"
   ],
   "outputs": [
    {
     "data": {
      "text/plain": [
       "'hello'"
      ]
     },
     "execution_count": 1,
     "metadata": {},
     "output_type": "execute_result"
    }
   ],
   "execution_count": 1
  },
  {
   "metadata": {
    "ExecuteTime": {
     "end_time": "2024-12-10T13:57:12.449488Z",
     "start_time": "2024-12-10T13:57:12.443394Z"
    }
   },
   "cell_type": "code",
   "source": "\"hello\"",
   "id": "2bc217d0124154c",
   "outputs": [
    {
     "data": {
      "text/plain": [
       "'hello'"
      ]
     },
     "execution_count": 2,
     "metadata": {},
     "output_type": "execute_result"
    }
   ],
   "execution_count": 2
  },
  {
   "metadata": {
    "ExecuteTime": {
     "end_time": "2024-12-10T13:57:24.600181Z",
     "start_time": "2024-12-10T13:57:24.592803Z"
    }
   },
   "cell_type": "code",
   "source": "'this is also a string'",
   "id": "f2585aebf5bbc07a",
   "outputs": [
    {
     "data": {
      "text/plain": [
       "'this is also a string'"
      ]
     },
     "execution_count": 3,
     "metadata": {},
     "output_type": "execute_result"
    }
   ],
   "execution_count": 3
  },
  {
   "metadata": {
    "ExecuteTime": {
     "end_time": "2024-12-10T13:57:38.710247Z",
     "start_time": "2024-12-10T13:57:38.704456Z"
    }
   },
   "cell_type": "code",
   "source": "\"I'm going on a run\"",
   "id": "8d85c6fbf88036e4",
   "outputs": [
    {
     "data": {
      "text/plain": [
       "\"I'm going on a run\""
      ]
     },
     "execution_count": 4,
     "metadata": {},
     "output_type": "execute_result"
    }
   ],
   "execution_count": 4
  },
  {
   "metadata": {
    "ExecuteTime": {
     "end_time": "2024-12-10T13:58:36.795072Z",
     "start_time": "2024-12-10T13:58:36.789666Z"
    }
   },
   "cell_type": "code",
   "source": "print(\"hello\")",
   "id": "69f9abe518b91c36",
   "outputs": [
    {
     "name": "stdout",
     "output_type": "stream",
     "text": [
      "hello\n"
     ]
    }
   ],
   "execution_count": 5
  },
  {
   "metadata": {
    "ExecuteTime": {
     "end_time": "2024-12-10T14:00:09.443362Z",
     "start_time": "2024-12-10T14:00:09.437318Z"
    }
   },
   "cell_type": "code",
   "source": "print(\"hello \\nworld\")",
   "id": "25ddbf4836d896fc",
   "outputs": [
    {
     "name": "stdout",
     "output_type": "stream",
     "text": [
      "hello \n",
      "world\n"
     ]
    }
   ],
   "execution_count": 7
  },
  {
   "metadata": {
    "ExecuteTime": {
     "end_time": "2024-12-10T14:00:26.908139Z",
     "start_time": "2024-12-10T14:00:26.902782Z"
    }
   },
   "cell_type": "code",
   "source": "print(\"hello \\tworld\")",
   "id": "a5738dfd2ce2f144",
   "outputs": [
    {
     "name": "stdout",
     "output_type": "stream",
     "text": [
      "hello \tworld\n"
     ]
    }
   ],
   "execution_count": 8
  },
  {
   "metadata": {
    "ExecuteTime": {
     "end_time": "2024-12-10T14:00:42.963662Z",
     "start_time": "2024-12-10T14:00:42.955830Z"
    }
   },
   "cell_type": "code",
   "source": "len(\"hello\")",
   "id": "fa12fd86967f2cf1",
   "outputs": [
    {
     "data": {
      "text/plain": [
       "5"
      ]
     },
     "execution_count": 9,
     "metadata": {},
     "output_type": "execute_result"
    }
   ],
   "execution_count": 9
  },
  {
   "metadata": {},
   "cell_type": "code",
   "source": "len(\"I am\")",
   "id": "47373f6ced3008b6",
   "outputs": [],
   "execution_count": null
  },
  {
   "metadata": {},
   "cell_type": "markdown",
   "source": "Indexing",
   "id": "32d1a8ef7fd92f99"
  },
  {
   "metadata": {},
   "cell_type": "code",
   "outputs": [],
   "execution_count": null,
   "source": "mystring = \"Hello World\" #indexing",
   "id": "31cc0f7a0cb95681"
  },
  {
   "metadata": {
    "ExecuteTime": {
     "end_time": "2024-12-10T14:11:27.250204Z",
     "start_time": "2024-12-10T14:11:27.244152Z"
    }
   },
   "cell_type": "code",
   "source": "mystring",
   "id": "fbb3a9cf58ddc9de",
   "outputs": [
    {
     "data": {
      "text/plain": [
       "'Hello World'"
      ]
     },
     "execution_count": 12,
     "metadata": {},
     "output_type": "execute_result"
    }
   ],
   "execution_count": 12
  },
  {
   "metadata": {
    "ExecuteTime": {
     "end_time": "2024-12-10T14:17:25.193392Z",
     "start_time": "2024-12-10T14:17:25.186825Z"
    }
   },
   "cell_type": "code",
   "source": "mystring[0]",
   "id": "3aafd70e89b446d6",
   "outputs": [
    {
     "data": {
      "text/plain": [
       "'H'"
      ]
     },
     "execution_count": 13,
     "metadata": {},
     "output_type": "execute_result"
    }
   ],
   "execution_count": 13
  },
  {
   "metadata": {
    "ExecuteTime": {
     "end_time": "2024-12-10T14:17:54.281357Z",
     "start_time": "2024-12-10T14:17:54.276267Z"
    }
   },
   "cell_type": "code",
   "source": "mystring[8]",
   "id": "56f3745fb1013202",
   "outputs": [
    {
     "data": {
      "text/plain": [
       "'r'"
      ]
     },
     "execution_count": 14,
     "metadata": {},
     "output_type": "execute_result"
    }
   ],
   "execution_count": 14
  },
  {
   "metadata": {
    "ExecuteTime": {
     "end_time": "2024-12-10T14:18:06.424542Z",
     "start_time": "2024-12-10T14:18:06.417459Z"
    }
   },
   "cell_type": "code",
   "source": "mystring[9]",
   "id": "52ee528f5d13b4b6",
   "outputs": [
    {
     "data": {
      "text/plain": [
       "'l'"
      ]
     },
     "execution_count": 15,
     "metadata": {},
     "output_type": "execute_result"
    }
   ],
   "execution_count": 15
  },
  {
   "metadata": {
    "ExecuteTime": {
     "end_time": "2024-12-10T14:18:20.377754Z",
     "start_time": "2024-12-10T14:18:20.369125Z"
    }
   },
   "cell_type": "code",
   "source": "mystring[-2]",
   "id": "eb45013ba96f2462",
   "outputs": [
    {
     "data": {
      "text/plain": [
       "'l'"
      ]
     },
     "execution_count": 16,
     "metadata": {},
     "output_type": "execute_result"
    }
   ],
   "execution_count": 16
  },
  {
   "metadata": {},
   "cell_type": "code",
   "source": "mystring[-3]",
   "id": "b87292827d1b75c2",
   "outputs": [],
   "execution_count": null
  },
  {
   "metadata": {},
   "cell_type": "markdown",
   "source": "Slicing",
   "id": "92af3dc4bba80cae"
  },
  {
   "metadata": {
    "ExecuteTime": {
     "end_time": "2024-12-10T14:23:27.122867Z",
     "start_time": "2024-12-10T14:23:27.117681Z"
    }
   },
   "cell_type": "code",
   "source": "mystring = 'abcdefghijk' #slicing",
   "id": "376768ff71f00065",
   "outputs": [],
   "execution_count": 24
  },
  {
   "metadata": {
    "ExecuteTime": {
     "end_time": "2024-12-10T14:20:38.029858Z",
     "start_time": "2024-12-10T14:20:38.023750Z"
    }
   },
   "cell_type": "code",
   "source": "mystring",
   "id": "763bdf99b8cee459",
   "outputs": [
    {
     "data": {
      "text/plain": [
       "'abcdefghijk'"
      ]
     },
     "execution_count": 21,
     "metadata": {},
     "output_type": "execute_result"
    }
   ],
   "execution_count": 21
  },
  {
   "metadata": {
    "ExecuteTime": {
     "end_time": "2024-12-10T14:21:00.947569Z",
     "start_time": "2024-12-10T14:21:00.941485Z"
    }
   },
   "cell_type": "code",
   "source": "mystring[2:]",
   "id": "5621f78de41c7cf0",
   "outputs": [
    {
     "data": {
      "text/plain": [
       "'cdefghijk'"
      ]
     },
     "execution_count": 22,
     "metadata": {},
     "output_type": "execute_result"
    }
   ],
   "execution_count": 22
  },
  {
   "metadata": {
    "ExecuteTime": {
     "end_time": "2024-12-10T14:21:33.856776Z",
     "start_time": "2024-12-10T14:21:33.850077Z"
    }
   },
   "cell_type": "code",
   "source": "mystring[:3]",
   "id": "60a585a6d6247a16",
   "outputs": [
    {
     "data": {
      "text/plain": [
       "'abc'"
      ]
     },
     "execution_count": 23,
     "metadata": {},
     "output_type": "execute_result"
    }
   ],
   "execution_count": 23
  },
  {
   "metadata": {
    "ExecuteTime": {
     "end_time": "2024-12-10T14:25:40.516651Z",
     "start_time": "2024-12-10T14:25:40.509013Z"
    }
   },
   "cell_type": "code",
   "source": "mystring[3:6]",
   "id": "3aa4d4eaad5eb699",
   "outputs": [
    {
     "data": {
      "text/plain": [
       "'def'"
      ]
     },
     "execution_count": 27,
     "metadata": {},
     "output_type": "execute_result"
    }
   ],
   "execution_count": 27
  },
  {
   "metadata": {
    "ExecuteTime": {
     "end_time": "2024-12-10T14:26:00.459048Z",
     "start_time": "2024-12-10T14:26:00.451840Z"
    }
   },
   "cell_type": "code",
   "source": "mystring[1:3]",
   "id": "71354404c677763a",
   "outputs": [
    {
     "data": {
      "text/plain": [
       "'bc'"
      ]
     },
     "execution_count": 28,
     "metadata": {},
     "output_type": "execute_result"
    }
   ],
   "execution_count": 28
  },
  {
   "metadata": {
    "ExecuteTime": {
     "end_time": "2024-12-10T14:26:41.750500Z",
     "start_time": "2024-12-10T14:26:41.743860Z"
    }
   },
   "cell_type": "code",
   "source": "mystring[3:9]",
   "id": "dad5b95f2d4d53c0",
   "outputs": [
    {
     "data": {
      "text/plain": [
       "'defghi'"
      ]
     },
     "execution_count": 29,
     "metadata": {},
     "output_type": "execute_result"
    }
   ],
   "execution_count": 29
  },
  {
   "metadata": {
    "ExecuteTime": {
     "end_time": "2024-12-10T14:28:09.852238Z",
     "start_time": "2024-12-10T14:28:09.844935Z"
    }
   },
   "cell_type": "code",
   "source": "mystring[2:7:2]",
   "id": "3ef53cdc9b01f173",
   "outputs": [
    {
     "data": {
      "text/plain": [
       "'ceg'"
      ]
     },
     "execution_count": 32,
     "metadata": {},
     "output_type": "execute_result"
    }
   ],
   "execution_count": 32
  },
  {
   "metadata": {
    "ExecuteTime": {
     "end_time": "2024-12-10T14:28:34.624197Z",
     "start_time": "2024-12-10T14:28:34.617671Z"
    }
   },
   "cell_type": "code",
   "source": "mystring[::-1]",
   "id": "620ba4c023862b56",
   "outputs": [
    {
     "data": {
      "text/plain": [
       "'kjihgfedcba'"
      ]
     },
     "execution_count": 33,
     "metadata": {},
     "output_type": "execute_result"
    }
   ],
   "execution_count": 33
  },
  {
   "metadata": {},
   "cell_type": "markdown",
   "source": "Immutability",
   "id": "7c09793ac78b633b"
  },
  {
   "metadata": {
    "ExecuteTime": {
     "end_time": "2024-12-10T14:37:35.261664Z",
     "start_time": "2024-12-10T14:37:35.257778Z"
    }
   },
   "cell_type": "code",
   "source": "name = \"Sam\"",
   "id": "9af92305c7b9a23b",
   "outputs": [],
   "execution_count": 35
  },
  {
   "metadata": {
    "ExecuteTime": {
     "end_time": "2024-12-10T14:38:40.344405Z",
     "start_time": "2024-12-10T14:38:40.339444Z"
    }
   },
   "cell_type": "code",
   "source": "# name[0] = 'P' doesn't work",
   "id": "6a24d2937b05acd2",
   "outputs": [],
   "execution_count": 37
  },
  {
   "metadata": {
    "ExecuteTime": {
     "end_time": "2024-12-10T14:39:06.841033Z",
     "start_time": "2024-12-10T14:39:06.836272Z"
    }
   },
   "cell_type": "code",
   "source": "last_letters = name[1:]",
   "id": "8d457d9bec360f22",
   "outputs": [],
   "execution_count": 39
  },
  {
   "metadata": {
    "ExecuteTime": {
     "end_time": "2024-12-10T14:39:10.864975Z",
     "start_time": "2024-12-10T14:39:10.858760Z"
    }
   },
   "cell_type": "code",
   "source": "last_letters",
   "id": "95f8cd871efdce34",
   "outputs": [
    {
     "data": {
      "text/plain": [
       "'am'"
      ]
     },
     "execution_count": 40,
     "metadata": {},
     "output_type": "execute_result"
    }
   ],
   "execution_count": 40
  },
  {
   "metadata": {
    "ExecuteTime": {
     "end_time": "2024-12-10T14:39:20.970301Z",
     "start_time": "2024-12-10T14:39:20.963104Z"
    }
   },
   "cell_type": "code",
   "source": "'P' + last_letters",
   "id": "feb425fb518e8c48",
   "outputs": [
    {
     "data": {
      "text/plain": [
       "'Pam'"
      ]
     },
     "execution_count": 41,
     "metadata": {},
     "output_type": "execute_result"
    }
   ],
   "execution_count": 41
  },
  {
   "metadata": {
    "ExecuteTime": {
     "end_time": "2024-12-10T14:40:23.216680Z",
     "start_time": "2024-12-10T14:40:23.212036Z"
    }
   },
   "cell_type": "code",
   "source": "x = \"Hello World\"",
   "id": "2c6e70437df27cbe",
   "outputs": [],
   "execution_count": 48
  },
  {
   "metadata": {
    "ExecuteTime": {
     "end_time": "2024-12-10T14:40:23.616049Z",
     "start_time": "2024-12-10T14:40:23.611756Z"
    }
   },
   "cell_type": "code",
   "source": "x = x + \" It is beautiful outside!\"",
   "id": "3d1753e9825ff70e",
   "outputs": [],
   "execution_count": 49
  },
  {
   "metadata": {
    "ExecuteTime": {
     "end_time": "2024-12-10T14:40:24.157319Z",
     "start_time": "2024-12-10T14:40:24.150982Z"
    }
   },
   "cell_type": "code",
   "source": "x",
   "id": "5e2bc6afa07fdcd8",
   "outputs": [
    {
     "data": {
      "text/plain": [
       "'Hello World It is beautiful outside!'"
      ]
     },
     "execution_count": 50,
     "metadata": {},
     "output_type": "execute_result"
    }
   ],
   "execution_count": 50
  },
  {
   "metadata": {
    "ExecuteTime": {
     "end_time": "2024-12-10T14:41:24.808291Z",
     "start_time": "2024-12-10T14:41:24.802286Z"
    }
   },
   "cell_type": "code",
   "source": "letter = \"z\"",
   "id": "88066deb91f5b9ce",
   "outputs": [],
   "execution_count": 51
  },
  {
   "metadata": {
    "ExecuteTime": {
     "end_time": "2024-12-10T14:41:29.905008Z",
     "start_time": "2024-12-10T14:41:29.897736Z"
    }
   },
   "cell_type": "code",
   "source": "letter * 10",
   "id": "52c30d94156575b6",
   "outputs": [
    {
     "data": {
      "text/plain": [
       "'zzzzzzzzzz'"
      ]
     },
     "execution_count": 52,
     "metadata": {},
     "output_type": "execute_result"
    }
   ],
   "execution_count": 52
  },
  {
   "metadata": {
    "ExecuteTime": {
     "end_time": "2024-12-10T14:42:00.219867Z",
     "start_time": "2024-12-10T14:42:00.212964Z"
    }
   },
   "cell_type": "code",
   "source": "2 + 3",
   "id": "66206c08fde9339c",
   "outputs": [
    {
     "data": {
      "text/plain": [
       "5"
      ]
     },
     "execution_count": 53,
     "metadata": {},
     "output_type": "execute_result"
    }
   ],
   "execution_count": 53
  },
  {
   "metadata": {
    "ExecuteTime": {
     "end_time": "2024-12-10T14:42:13.105565Z",
     "start_time": "2024-12-10T14:42:13.099170Z"
    }
   },
   "cell_type": "code",
   "source": "'2' + '3'",
   "id": "e548c9a61ef33438",
   "outputs": [
    {
     "data": {
      "text/plain": [
       "'23'"
      ]
     },
     "execution_count": 54,
     "metadata": {},
     "output_type": "execute_result"
    }
   ],
   "execution_count": 54
  },
  {
   "metadata": {
    "ExecuteTime": {
     "end_time": "2024-12-10T14:43:09.768320Z",
     "start_time": "2024-12-10T14:43:09.762422Z"
    }
   },
   "cell_type": "code",
   "source": "x = \"Hello World\"",
   "id": "e2418e35630c3af4",
   "outputs": [],
   "execution_count": 55
  },
  {
   "metadata": {
    "ExecuteTime": {
     "end_time": "2024-12-10T14:44:02.343902Z",
     "start_time": "2024-12-10T14:44:02.339291Z"
    }
   },
   "cell_type": "code",
   "source": "x = x.upper()",
   "id": "be0cdf8500a775a6",
   "outputs": [],
   "execution_count": 57
  },
  {
   "metadata": {
    "ExecuteTime": {
     "end_time": "2024-12-10T14:44:03.269051Z",
     "start_time": "2024-12-10T14:44:03.261773Z"
    }
   },
   "cell_type": "code",
   "source": "x",
   "id": "ec12726adf698bfb",
   "outputs": [
    {
     "data": {
      "text/plain": [
       "'HELLO WORLD'"
      ]
     },
     "execution_count": 58,
     "metadata": {},
     "output_type": "execute_result"
    }
   ],
   "execution_count": 58
  },
  {
   "metadata": {
    "ExecuteTime": {
     "end_time": "2024-12-10T14:44:55.480198Z",
     "start_time": "2024-12-10T14:44:55.473121Z"
    }
   },
   "cell_type": "code",
   "source": "x.lower()",
   "id": "9694e360c43c77ab",
   "outputs": [
    {
     "data": {
      "text/plain": [
       "'hello world'"
      ]
     },
     "execution_count": 59,
     "metadata": {},
     "output_type": "execute_result"
    }
   ],
   "execution_count": 59
  },
  {
   "metadata": {
    "ExecuteTime": {
     "end_time": "2024-12-10T14:45:03.565547Z",
     "start_time": "2024-12-10T14:45:03.558253Z"
    }
   },
   "cell_type": "code",
   "source": "x.split()",
   "id": "d420be87610b1831",
   "outputs": [
    {
     "data": {
      "text/plain": [
       "['HELLO', 'WORLD']"
      ]
     },
     "execution_count": 60,
     "metadata": {},
     "output_type": "execute_result"
    }
   ],
   "execution_count": 60
  },
  {
   "metadata": {
    "ExecuteTime": {
     "end_time": "2024-12-10T14:45:37.807223Z",
     "start_time": "2024-12-10T14:45:37.800318Z"
    }
   },
   "cell_type": "code",
   "source": [
    "x = 'Hi this is a string'\n",
    "x"
   ],
   "id": "10e83d1a76f4e979",
   "outputs": [
    {
     "data": {
      "text/plain": [
       "'Hi this is a string'"
      ]
     },
     "execution_count": 61,
     "metadata": {},
     "output_type": "execute_result"
    }
   ],
   "execution_count": 61
  },
  {
   "metadata": {
    "ExecuteTime": {
     "end_time": "2024-12-10T14:45:45.451840Z",
     "start_time": "2024-12-10T14:45:45.442420Z"
    }
   },
   "cell_type": "code",
   "source": "x.split()",
   "id": "48f5ac59977e3954",
   "outputs": [
    {
     "data": {
      "text/plain": [
       "['Hi', 'this', 'is', 'a', 'string']"
      ]
     },
     "execution_count": 62,
     "metadata": {},
     "output_type": "execute_result"
    }
   ],
   "execution_count": 62
  },
  {
   "metadata": {
    "ExecuteTime": {
     "end_time": "2024-12-10T14:45:54.764366Z",
     "start_time": "2024-12-10T14:45:54.758277Z"
    }
   },
   "cell_type": "code",
   "source": "x.split('i')",
   "id": "f40a0d38749dcea0",
   "outputs": [
    {
     "data": {
      "text/plain": [
       "['H', ' th', 's ', 's a str', 'ng']"
      ]
     },
     "execution_count": 63,
     "metadata": {},
     "output_type": "execute_result"
    }
   ],
   "execution_count": 63
  },
  {
   "metadata": {},
   "cell_type": "markdown",
   "source": "String formating for printing",
   "id": "3c36750b06bc5cda"
  },
  {
   "metadata": {
    "ExecuteTime": {
     "end_time": "2024-12-10T15:03:59.606870Z",
     "start_time": "2024-12-10T15:03:59.601687Z"
    }
   },
   "cell_type": "code",
   "source": [
    "# .format() method\n",
    "print('This is a string {}' .format('INSERTED'))"
   ],
   "id": "11df579870cbb778",
   "outputs": [
    {
     "name": "stdout",
     "output_type": "stream",
     "text": [
      "This is a string INSERTED\n"
     ]
    }
   ],
   "execution_count": 64
  },
  {
   "metadata": {
    "ExecuteTime": {
     "end_time": "2024-12-10T15:07:51.639693Z",
     "start_time": "2024-12-10T15:07:51.634672Z"
    }
   },
   "cell_type": "code",
   "source": "print('The {0} {0} {0}' .format('fox', 'brown', 'quick'))",
   "id": "e28d845ba1672e1f",
   "outputs": [
    {
     "name": "stdout",
     "output_type": "stream",
     "text": [
      "The fox fox fox\n"
     ]
    }
   ],
   "execution_count": 68
  },
  {
   "metadata": {
    "ExecuteTime": {
     "end_time": "2024-12-10T15:07:52.320714Z",
     "start_time": "2024-12-10T15:07:52.315494Z"
    }
   },
   "cell_type": "code",
   "source": "print('The {q} {b} {f}' .format(f = 'fox', b = 'brown', q = 'quick'))",
   "id": "e1d8a725831beb24",
   "outputs": [
    {
     "name": "stdout",
     "output_type": "stream",
     "text": [
      "The quick brown fox\n"
     ]
    }
   ],
   "execution_count": 69
  },
  {
   "metadata": {
    "ExecuteTime": {
     "end_time": "2024-12-10T15:08:38.207953Z",
     "start_time": "2024-12-10T15:08:38.201387Z"
    }
   },
   "cell_type": "code",
   "source": [
    "result = 100/777\n",
    "result"
   ],
   "id": "2bb39fb9a606edc6",
   "outputs": [
    {
     "data": {
      "text/plain": [
       "0.1287001287001287"
      ]
     },
     "execution_count": 70,
     "metadata": {},
     "output_type": "execute_result"
    }
   ],
   "execution_count": 70
  },
  {
   "metadata": {
    "ExecuteTime": {
     "end_time": "2024-12-10T15:16:48.717842Z",
     "start_time": "2024-12-10T15:16:48.713365Z"
    }
   },
   "cell_type": "code",
   "source": "print(\"The result was {r:1.7}\" .format(r = result))",
   "id": "b633b77f9293a3",
   "outputs": [
    {
     "name": "stdout",
     "output_type": "stream",
     "text": [
      "The result was 0.1287001\n"
     ]
    }
   ],
   "execution_count": 91
  },
  {
   "metadata": {
    "ExecuteTime": {
     "end_time": "2024-12-10T15:12:04.705741Z",
     "start_time": "2024-12-10T15:12:04.700955Z"
    }
   },
   "cell_type": "code",
   "source": "name = 'Fahim'",
   "id": "b156217253aab76c",
   "outputs": [],
   "execution_count": 77
  },
  {
   "metadata": {
    "ExecuteTime": {
     "end_time": "2024-12-10T15:12:34.820930Z",
     "start_time": "2024-12-10T15:12:34.815074Z"
    }
   },
   "cell_type": "code",
   "source": "print(f'Hello, his name is {name}')",
   "id": "6a7546162bec466a",
   "outputs": [
    {
     "name": "stdout",
     "output_type": "stream",
     "text": [
      "Hello, his name is Fahim\n"
     ]
    }
   ],
   "execution_count": 78
  },
  {
   "metadata": {
    "ExecuteTime": {
     "end_time": "2024-12-10T15:13:26.488390Z",
     "start_time": "2024-12-10T15:13:26.484296Z"
    }
   },
   "cell_type": "code",
   "source": [
    "name = \"Pawmuni\"\n",
    "age = 3"
   ],
   "id": "f14c73ab626bdb7e",
   "outputs": [],
   "execution_count": 79
  },
  {
   "metadata": {
    "ExecuteTime": {
     "end_time": "2024-12-10T15:13:50.427318Z",
     "start_time": "2024-12-10T15:13:50.421310Z"
    }
   },
   "cell_type": "code",
   "source": "print(f'{name} is {age} years old')",
   "id": "a127a4a3c3fc427e",
   "outputs": [
    {
     "name": "stdout",
     "output_type": "stream",
     "text": [
      "Pawmuni is 3 years old\n"
     ]
    }
   ],
   "execution_count": 80
  },
  {
   "metadata": {
    "ExecuteTime": {
     "end_time": "2024-12-10T15:26:35.885622Z",
     "start_time": "2024-12-10T15:26:35.879128Z"
    }
   },
   "cell_type": "code",
   "source": "print(f'The result is {result:1.3f}')",
   "id": "6320b19f440638bb",
   "outputs": [
    {
     "name": "stdout",
     "output_type": "stream",
     "text": [
      "The result is 0.129\n"
     ]
    }
   ],
   "execution_count": 101
  },
  {
   "metadata": {
    "ExecuteTime": {
     "end_time": "2024-12-10T15:26:37.851847Z",
     "start_time": "2024-12-10T15:26:37.846317Z"
    }
   },
   "cell_type": "code",
   "source": [
    "print('{0:<8} | {1:^8} | {2:>8}' .format('Left', 'Center', 'Right'))\n",
    "print('{0:<8} | {1:^8} | {2:>8}' .format(11, 22, 33))"
   ],
   "id": "6566c978f1c8f238",
   "outputs": [
    {
     "name": "stdout",
     "output_type": "stream",
     "text": [
      "Left     |  Center  |    Right\n",
      "11       |    22    |       33\n"
     ]
    }
   ],
   "execution_count": 102
  }
 ],
 "metadata": {
  "kernelspec": {
   "display_name": "Python 3",
   "language": "python",
   "name": "python3"
  },
  "language_info": {
   "codemirror_mode": {
    "name": "ipython",
    "version": 2
   },
   "file_extension": ".py",
   "mimetype": "text/x-python",
   "name": "python",
   "nbconvert_exporter": "python",
   "pygments_lexer": "ipython2",
   "version": "2.7.6"
  }
 },
 "nbformat": 4,
 "nbformat_minor": 5
}
