{
 "cells": [
  {
   "metadata": {
    "ExecuteTime": {
     "end_time": "2024-12-09T07:26:09.420298Z",
     "start_time": "2024-12-09T07:26:09.412509Z"
    }
   },
   "cell_type": "code",
   "source": "2 + 2",
   "id": "1aa84c084abe1c0",
   "outputs": [
    {
     "data": {
      "text/plain": [
       "4"
      ]
     },
     "execution_count": 4,
     "metadata": {},
     "output_type": "execute_result"
    }
   ],
   "execution_count": 4
  },
  {
   "metadata": {
    "ExecuteTime": {
     "end_time": "2024-12-09T07:26:13.320096Z",
     "start_time": "2024-12-09T07:26:13.313342Z"
    }
   },
   "cell_type": "code",
   "source": "2 - 1",
   "id": "36fab993ff4e6c82",
   "outputs": [
    {
     "data": {
      "text/plain": [
       "1"
      ]
     },
     "execution_count": 5,
     "metadata": {},
     "output_type": "execute_result"
    }
   ],
   "execution_count": 5
  },
  {
   "metadata": {
    "ExecuteTime": {
     "end_time": "2024-12-09T07:26:20.300716Z",
     "start_time": "2024-12-09T07:26:20.294604Z"
    }
   },
   "cell_type": "code",
   "source": "2 * 2",
   "id": "908a268fde0baeb",
   "outputs": [
    {
     "data": {
      "text/plain": [
       "4"
      ]
     },
     "execution_count": 6,
     "metadata": {},
     "output_type": "execute_result"
    }
   ],
   "execution_count": 6
  },
  {
   "metadata": {
    "ExecuteTime": {
     "end_time": "2024-12-09T07:26:23.788199Z",
     "start_time": "2024-12-09T07:26:23.781590Z"
    }
   },
   "cell_type": "code",
   "source": "3 / 2",
   "id": "a4f4d689f5f5076d",
   "outputs": [
    {
     "data": {
      "text/plain": [
       "1.5"
      ]
     },
     "execution_count": 7,
     "metadata": {},
     "output_type": "execute_result"
    }
   ],
   "execution_count": 7
  },
  {
   "metadata": {
    "ExecuteTime": {
     "end_time": "2024-12-09T07:26:28.283067Z",
     "start_time": "2024-12-09T07:26:28.277081Z"
    }
   },
   "cell_type": "code",
   "source": "3 % 2",
   "id": "7d84dd9a6cb92a40",
   "outputs": [
    {
     "data": {
      "text/plain": [
       "1"
      ]
     },
     "execution_count": 8,
     "metadata": {},
     "output_type": "execute_result"
    }
   ],
   "execution_count": 8
  },
  {
   "metadata": {
    "ExecuteTime": {
     "end_time": "2024-12-09T07:26:36.149657Z",
     "start_time": "2024-12-09T07:26:36.143035Z"
    }
   },
   "cell_type": "code",
   "source": "3 ** 2",
   "id": "d893d019e1bb339f",
   "outputs": [
    {
     "data": {
      "text/plain": [
       "9"
      ]
     },
     "execution_count": 9,
     "metadata": {},
     "output_type": "execute_result"
    }
   ],
   "execution_count": 9
  },
  {
   "metadata": {},
   "cell_type": "markdown",
   "source": "% gives us the mod and use ** for power.",
   "id": "57f10ed0665d81bc"
  }
 ],
 "metadata": {
  "kernelspec": {
   "display_name": "Python 3",
   "language": "python",
   "name": "python3"
  },
  "language_info": {
   "codemirror_mode": {
    "name": "ipython",
    "version": 2
   },
   "file_extension": ".py",
   "mimetype": "text/x-python",
   "name": "python",
   "nbconvert_exporter": "python",
   "pygments_lexer": "ipython2",
   "version": "2.7.6"
  }
 },
 "nbformat": 4,
 "nbformat_minor": 5
}
