{
 "cells": [
  {
   "cell_type": "code",
   "id": "initial_id",
   "metadata": {
    "collapsed": true,
    "ExecuteTime": {
     "end_time": "2025-01-10T14:07:32.726148Z",
     "start_time": "2025-01-10T14:07:32.722594Z"
    }
   },
   "source": [
    "def myfunc(a,b):\n",
    "    # returns 5% of the sum of a and b\n",
    "    return sum((a,b))*0.05"
   ],
   "outputs": [],
   "execution_count": 5
  },
  {
   "metadata": {
    "ExecuteTime": {
     "end_time": "2025-01-10T14:07:33.454782Z",
     "start_time": "2025-01-10T14:07:33.447533Z"
    }
   },
   "cell_type": "code",
   "source": "myfunc(40,60)",
   "id": "7b35856454308680",
   "outputs": [
    {
     "data": {
      "text/plain": [
       "5.0"
      ]
     },
     "execution_count": 6,
     "metadata": {},
     "output_type": "execute_result"
    }
   ],
   "execution_count": 6
  },
  {
   "metadata": {
    "ExecuteTime": {
     "end_time": "2025-01-10T14:09:51.516874Z",
     "start_time": "2025-01-10T14:09:51.513532Z"
    }
   },
   "cell_type": "code",
   "source": [
    "def myfunc(a,b,c=0,d=0,e=0):\n",
    "    # returns 5% of the sum of a and b\n",
    "    return sum((a,b,c,d,e))*0.05"
   ],
   "id": "b32c475b91d5c547",
   "outputs": [],
   "execution_count": 10
  },
  {
   "metadata": {
    "ExecuteTime": {
     "end_time": "2025-01-10T14:10:01.606116Z",
     "start_time": "2025-01-10T14:10:01.600631Z"
    }
   },
   "cell_type": "code",
   "source": "myfunc(40,60,100)",
   "id": "4f3090502681886c",
   "outputs": [
    {
     "data": {
      "text/plain": [
       "10.0"
      ]
     },
     "execution_count": 11,
     "metadata": {},
     "output_type": "execute_result"
    }
   ],
   "execution_count": 11
  },
  {
   "metadata": {
    "ExecuteTime": {
     "end_time": "2025-01-10T14:12:04.047233Z",
     "start_time": "2025-01-10T14:12:04.042763Z"
    }
   },
   "cell_type": "code",
   "source": [
    "def myfunc(*args): # arbitrary\n",
    "    return sum(args)*0.05"
   ],
   "id": "f503f7f1af84965",
   "outputs": [],
   "execution_count": 14
  },
  {
   "metadata": {
    "ExecuteTime": {
     "end_time": "2025-01-10T14:12:04.586021Z",
     "start_time": "2025-01-10T14:12:04.579578Z"
    }
   },
   "cell_type": "code",
   "source": "myfunc(40,60,100,5,6,70,80)",
   "id": "15d70d3316035ea4",
   "outputs": [
    {
     "data": {
      "text/plain": [
       "18.05"
      ]
     },
     "execution_count": 15,
     "metadata": {},
     "output_type": "execute_result"
    }
   ],
   "execution_count": 15
  },
  {
   "metadata": {
    "ExecuteTime": {
     "end_time": "2025-01-10T14:14:56.102206Z",
     "start_time": "2025-01-10T14:14:56.098194Z"
    }
   },
   "cell_type": "code",
   "source": [
    "def myfunc(**kwargs):\n",
    "    if 'fruit' in kwargs:\n",
    "        print('My fruit of choice is {}'.format(kwargs['fruit']))\n",
    "    else:\n",
    "        print('I did not find any fruit here')"
   ],
   "id": "d3fe59d8d546bcd3",
   "outputs": [],
   "execution_count": 16
  },
  {
   "metadata": {
    "ExecuteTime": {
     "end_time": "2025-01-10T14:15:40.974719Z",
     "start_time": "2025-01-10T14:15:40.969965Z"
    }
   },
   "cell_type": "code",
   "source": "myfunc(fruit='Banana', vegetable='Lettuce')",
   "id": "688ae50f9c2f5fff",
   "outputs": [
    {
     "name": "stdout",
     "output_type": "stream",
     "text": [
      "My fruit of choice is Banana\n"
     ]
    }
   ],
   "execution_count": 17
  },
  {
   "metadata": {
    "ExecuteTime": {
     "end_time": "2025-01-10T14:17:33.270505Z",
     "start_time": "2025-01-10T14:17:33.265877Z"
    }
   },
   "cell_type": "code",
   "source": [
    "def myfunc(*args, **kwargs):\n",
    "    print('I would like {} {}' .format(args[0], kwargs['food']))"
   ],
   "id": "bb2c8e73f0bdf9e5",
   "outputs": [],
   "execution_count": 18
  },
  {
   "metadata": {
    "ExecuteTime": {
     "end_time": "2025-01-10T14:18:08.353474Z",
     "start_time": "2025-01-10T14:18:08.348907Z"
    }
   },
   "cell_type": "code",
   "source": "myfunc(10,20,30,fruit='Orange',food='Eggs',animal='Dog')",
   "id": "ba2aaa68360676e5",
   "outputs": [
    {
     "name": "stdout",
     "output_type": "stream",
     "text": [
      "I would like 10 Eggs\n"
     ]
    }
   ],
   "execution_count": 19
  },
  {
   "metadata": {
    "ExecuteTime": {
     "end_time": "2025-01-10T14:29:32.572058Z",
     "start_time": "2025-01-10T14:29:32.567657Z"
    }
   },
   "cell_type": "code",
   "source": [
    "def myfunc(*args, **kwargs):\n",
    "    if 'fruit' and 'juice' in kwargs:\n",
    "        print(f\"I like {' and '.join(args)} and my favorite fruit is {kwargs['fruit']}\")\n",
    "        print(f\"May I have some {kwargs['juice']} juice?\")\n",
    "    else:\n",
    "        pass"
   ],
   "id": "9a733d48fb25d2fe",
   "outputs": [],
   "execution_count": 23
  },
  {
   "metadata": {
    "ExecuteTime": {
     "end_time": "2025-01-10T14:29:33.405582Z",
     "start_time": "2025-01-10T14:29:33.399394Z"
    }
   },
   "cell_type": "code",
   "source": "myfunc('eggs','chicken',fruit='banana',juice='orange')",
   "id": "2dbc61d76a17163d",
   "outputs": [
    {
     "name": "stdout",
     "output_type": "stream",
     "text": [
      "I like eggs and chicken and my favorite fruit is banana\n",
      "May I have some orange juice?\n"
     ]
    }
   ],
   "execution_count": 24
  }
 ],
 "metadata": {
  "kernelspec": {
   "display_name": "Python 3",
   "language": "python",
   "name": "python3"
  },
  "language_info": {
   "codemirror_mode": {
    "name": "ipython",
    "version": 2
   },
   "file_extension": ".py",
   "mimetype": "text/x-python",
   "name": "python",
   "nbconvert_exporter": "python",
   "pygments_lexer": "ipython2",
   "version": "2.7.6"
  }
 },
 "nbformat": 4,
 "nbformat_minor": 5
}
