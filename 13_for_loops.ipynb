{
 "cells": [
  {
   "cell_type": "code",
   "id": "initial_id",
   "metadata": {
    "collapsed": true,
    "ExecuteTime": {
     "end_time": "2024-12-22T14:13:14.301531Z",
     "start_time": "2024-12-22T14:13:14.296932Z"
    }
   },
   "source": "mylist = [1,2,3,4,5,6,7,8,9,10]",
   "outputs": [],
   "execution_count": 1
  },
  {
   "metadata": {
    "ExecuteTime": {
     "end_time": "2024-12-22T14:13:53.661990Z",
     "start_time": "2024-12-22T14:13:53.655479Z"
    }
   },
   "cell_type": "code",
   "source": [
    "for num in mylist:\n",
    "    print(num)"
   ],
   "id": "466580aba490bf4a",
   "outputs": [
    {
     "name": "stdout",
     "output_type": "stream",
     "text": [
      "1\n",
      "2\n",
      "3\n",
      "4\n",
      "5\n",
      "6\n",
      "7\n",
      "8\n",
      "9\n",
      "10\n"
     ]
    }
   ],
   "execution_count": 2
  },
  {
   "metadata": {
    "ExecuteTime": {
     "end_time": "2024-12-22T14:15:12.466506Z",
     "start_time": "2024-12-22T14:15:12.461288Z"
    }
   },
   "cell_type": "code",
   "source": [
    "for num in mylist:\n",
    "    print('Hello')"
   ],
   "id": "ed3467a4df7c130a",
   "outputs": [
    {
     "name": "stdout",
     "output_type": "stream",
     "text": [
      "Hello\n",
      "Hello\n",
      "Hello\n",
      "Hello\n",
      "Hello\n",
      "Hello\n",
      "Hello\n",
      "Hello\n",
      "Hello\n",
      "Hello\n"
     ]
    }
   ],
   "execution_count": 3
  },
  {
   "metadata": {
    "ExecuteTime": {
     "end_time": "2024-12-22T14:18:23.984814Z",
     "start_time": "2024-12-22T14:18:23.978186Z"
    }
   },
   "cell_type": "code",
   "source": [
    "for num in mylist:\n",
    "    if num % 2 == 0: #check for even\n",
    "        print(f'Even Number: {num}')\n",
    "    else:\n",
    "        print(f'Odd Number : {num}')"
   ],
   "id": "ca045daf63e43a1d",
   "outputs": [
    {
     "name": "stdout",
     "output_type": "stream",
     "text": [
      "Odd Number : 1\n",
      "Even Number: 2\n",
      "Odd Number : 3\n",
      "Even Number: 4\n",
      "Odd Number : 5\n",
      "Even Number: 6\n",
      "Odd Number : 7\n",
      "Even Number: 8\n",
      "Odd Number : 9\n",
      "Even Number: 10\n"
     ]
    }
   ],
   "execution_count": 10
  },
  {
   "metadata": {
    "ExecuteTime": {
     "end_time": "2024-12-22T14:20:35.765935Z",
     "start_time": "2024-12-22T14:20:35.761028Z"
    }
   },
   "cell_type": "code",
   "source": [
    "list_sum = 0\n",
    "\n",
    "for num in mylist:\n",
    "    list_sum += num\n",
    "    print(list_sum)\n",
    "print(list_sum)"
   ],
   "id": "2d0044a4c86e0435",
   "outputs": [
    {
     "name": "stdout",
     "output_type": "stream",
     "text": [
      "1\n",
      "3\n",
      "6\n",
      "10\n",
      "15\n",
      "21\n",
      "28\n",
      "36\n",
      "45\n",
      "55\n",
      "55\n"
     ]
    }
   ],
   "execution_count": 12
  },
  {
   "metadata": {
    "ExecuteTime": {
     "end_time": "2024-12-22T14:20:51.699760Z",
     "start_time": "2024-12-22T14:20:51.694511Z"
    }
   },
   "cell_type": "code",
   "source": [
    "list_sum = 0\n",
    "\n",
    "for num in mylist:\n",
    "    list_sum += num\n",
    "print(list_sum)"
   ],
   "id": "64cd598dbbafeb39",
   "outputs": [
    {
     "name": "stdout",
     "output_type": "stream",
     "text": [
      "55\n"
     ]
    }
   ],
   "execution_count": 15
  },
  {
   "metadata": {
    "ExecuteTime": {
     "end_time": "2024-12-22T14:21:15.609601Z",
     "start_time": "2024-12-22T14:21:15.605742Z"
    }
   },
   "cell_type": "code",
   "source": [
    "mystring = 'Hello World'\n",
    "\n",
    "for letter in mystring:\n",
    "    print(letter)"
   ],
   "id": "ffdb3961afbde312",
   "outputs": [
    {
     "name": "stdout",
     "output_type": "stream",
     "text": [
      "H\n",
      "e\n",
      "l\n",
      "l\n",
      "o\n",
      " \n",
      "W\n",
      "o\n",
      "r\n",
      "l\n",
      "d\n"
     ]
    }
   ],
   "execution_count": 17
  },
  {
   "metadata": {
    "ExecuteTime": {
     "end_time": "2024-12-22T14:22:18.919030Z",
     "start_time": "2024-12-22T14:22:18.914173Z"
    }
   },
   "cell_type": "code",
   "source": [
    "for _ in 'Hello World':\n",
    "    print('Cool!')"
   ],
   "id": "711c6413bdad4363",
   "outputs": [
    {
     "name": "stdout",
     "output_type": "stream",
     "text": [
      "Cool!\n",
      "Cool!\n",
      "Cool!\n",
      "Cool!\n",
      "Cool!\n",
      "Cool!\n",
      "Cool!\n",
      "Cool!\n",
      "Cool!\n",
      "Cool!\n",
      "Cool!\n"
     ]
    }
   ],
   "execution_count": 18
  },
  {
   "metadata": {
    "ExecuteTime": {
     "end_time": "2024-12-22T14:22:32.423968Z",
     "start_time": "2024-12-22T14:22:32.419195Z"
    }
   },
   "cell_type": "code",
   "source": [
    "tup =(1,2,3)\n",
    "\n",
    "for item in tup:\n",
    "    print(item)"
   ],
   "id": "ae0cfed59a0ad940",
   "outputs": [
    {
     "name": "stdout",
     "output_type": "stream",
     "text": [
      "1\n",
      "2\n",
      "3\n"
     ]
    }
   ],
   "execution_count": 19
  },
  {
   "metadata": {
    "ExecuteTime": {
     "end_time": "2024-12-22T14:23:24.572663Z",
     "start_time": "2024-12-22T14:23:24.565258Z"
    }
   },
   "cell_type": "code",
   "source": [
    "mylist = [(1,2), (3,4), (5,6), (7,8)]\n",
    "\n",
    "len(mylist)"
   ],
   "id": "65fb91c2e294dfcc",
   "outputs": [
    {
     "data": {
      "text/plain": [
       "4"
      ]
     },
     "execution_count": 20,
     "metadata": {},
     "output_type": "execute_result"
    }
   ],
   "execution_count": 20
  },
  {
   "metadata": {
    "ExecuteTime": {
     "end_time": "2024-12-22T14:23:32.341902Z",
     "start_time": "2024-12-22T14:23:32.337629Z"
    }
   },
   "cell_type": "code",
   "source": [
    "for item in mylist:\n",
    "    print(item)"
   ],
   "id": "801a61ef92fad243",
   "outputs": [
    {
     "name": "stdout",
     "output_type": "stream",
     "text": [
      "(1, 2)\n",
      "(3, 4)\n",
      "(5, 6)\n",
      "(7, 8)\n"
     ]
    }
   ],
   "execution_count": 21
  },
  {
   "metadata": {
    "ExecuteTime": {
     "end_time": "2024-12-22T14:24:50.717971Z",
     "start_time": "2024-12-22T14:24:50.713037Z"
    }
   },
   "cell_type": "code",
   "source": [
    "for (a,b) in mylist: #tuple unpacking\n",
    "    print(a)\n",
    "    print(b)"
   ],
   "id": "a243bcf95eb89d8d",
   "outputs": [
    {
     "name": "stdout",
     "output_type": "stream",
     "text": [
      "1\n",
      "2\n",
      "3\n",
      "4\n",
      "5\n",
      "6\n",
      "7\n",
      "8\n"
     ]
    }
   ],
   "execution_count": 22
  },
  {
   "metadata": {
    "ExecuteTime": {
     "end_time": "2024-12-22T14:25:41.626468Z",
     "start_time": "2024-12-22T14:25:41.621469Z"
    }
   },
   "cell_type": "code",
   "source": [
    "for a,b in mylist:\n",
    "    print(b)"
   ],
   "id": "fb7d56f3394089dd",
   "outputs": [
    {
     "name": "stdout",
     "output_type": "stream",
     "text": [
      "2\n",
      "4\n",
      "6\n",
      "8\n"
     ]
    }
   ],
   "execution_count": 23
  },
  {
   "metadata": {
    "ExecuteTime": {
     "end_time": "2024-12-22T14:26:20.442025Z",
     "start_time": "2024-12-22T14:26:20.437819Z"
    }
   },
   "cell_type": "code",
   "source": [
    "mylist = [(1,2,3), (5,6,7), (8,9,10)]\n",
    "\n",
    "for item in mylist:\n",
    "    print(item)"
   ],
   "id": "72e19915ef683ee8",
   "outputs": [
    {
     "name": "stdout",
     "output_type": "stream",
     "text": [
      "(1, 2, 3)\n",
      "(5, 6, 7)\n",
      "(8, 9, 10)\n"
     ]
    }
   ],
   "execution_count": 24
  },
  {
   "metadata": {
    "ExecuteTime": {
     "end_time": "2024-12-22T14:26:35.727140Z",
     "start_time": "2024-12-22T14:26:35.723330Z"
    }
   },
   "cell_type": "code",
   "source": [
    "for a,b,c in mylist:\n",
    "    print(b)"
   ],
   "id": "bc0f84d42a94cbef",
   "outputs": [
    {
     "name": "stdout",
     "output_type": "stream",
     "text": [
      "2\n",
      "6\n",
      "9\n"
     ]
    }
   ],
   "execution_count": 25
  },
  {
   "metadata": {
    "ExecuteTime": {
     "end_time": "2024-12-22T14:27:24.293487Z",
     "start_time": "2024-12-22T14:27:24.289020Z"
    }
   },
   "cell_type": "code",
   "source": [
    "d = {'k1':1,'k2':2,'k3':3}\n",
    "for item in d:\n",
    "    print(item)"
   ],
   "id": "e0c59db02b947399",
   "outputs": [
    {
     "name": "stdout",
     "output_type": "stream",
     "text": [
      "k1\n",
      "k2\n",
      "k3\n"
     ]
    }
   ],
   "execution_count": 26
  },
  {
   "metadata": {
    "ExecuteTime": {
     "end_time": "2024-12-22T14:27:48.661652Z",
     "start_time": "2024-12-22T14:27:48.656634Z"
    }
   },
   "cell_type": "code",
   "source": [
    "for item in d.items():\n",
    "    print(item)"
   ],
   "id": "45f4982badc47257",
   "outputs": [
    {
     "name": "stdout",
     "output_type": "stream",
     "text": [
      "('k1', 1)\n",
      "('k2', 2)\n",
      "('k3', 3)\n"
     ]
    }
   ],
   "execution_count": 27
  },
  {
   "metadata": {
    "ExecuteTime": {
     "end_time": "2024-12-22T14:28:09.189690Z",
     "start_time": "2024-12-22T14:28:09.185704Z"
    }
   },
   "cell_type": "code",
   "source": [
    "for key,value in d.items(): # dic unpacking\n",
    "    print(value)"
   ],
   "id": "97c4cab070c938f9",
   "outputs": [
    {
     "name": "stdout",
     "output_type": "stream",
     "text": [
      "1\n",
      "2\n",
      "3\n"
     ]
    }
   ],
   "execution_count": 29
  },
  {
   "metadata": {
    "ExecuteTime": {
     "end_time": "2024-12-22T14:30:44.486957Z",
     "start_time": "2024-12-22T14:30:44.481430Z"
    }
   },
   "cell_type": "code",
   "source": [
    "for value in d.values():\n",
    "    print(value)"
   ],
   "id": "f162b615147c4e39",
   "outputs": [
    {
     "name": "stdout",
     "output_type": "stream",
     "text": [
      "1\n",
      "2\n",
      "3\n"
     ]
    }
   ],
   "execution_count": 31
  },
  {
   "metadata": {
    "ExecuteTime": {
     "end_time": "2024-12-22T14:30:55.171501Z",
     "start_time": "2024-12-22T14:30:55.164370Z"
    }
   },
   "cell_type": "code",
   "source": "list(d.keys())",
   "id": "a2f888f092f8958b",
   "outputs": [
    {
     "data": {
      "text/plain": [
       "['k1', 'k2', 'k3']"
      ]
     },
     "execution_count": 32,
     "metadata": {},
     "output_type": "execute_result"
    }
   ],
   "execution_count": 32
  },
  {
   "metadata": {
    "ExecuteTime": {
     "end_time": "2024-12-22T14:31:03.862528Z",
     "start_time": "2024-12-22T14:31:03.854493Z"
    }
   },
   "cell_type": "code",
   "source": "sorted(d.values())",
   "id": "38eed6bc05793317",
   "outputs": [
    {
     "data": {
      "text/plain": [
       "[1, 2, 3]"
      ]
     },
     "execution_count": 33,
     "metadata": {},
     "output_type": "execute_result"
    }
   ],
   "execution_count": 33
  },
  {
   "metadata": {},
   "cell_type": "code",
   "outputs": [],
   "execution_count": null,
   "source": "",
   "id": "68709f652f05f899"
  }
 ],
 "metadata": {
  "kernelspec": {
   "display_name": "Python 3",
   "language": "python",
   "name": "python3"
  },
  "language_info": {
   "codemirror_mode": {
    "name": "ipython",
    "version": 2
   },
   "file_extension": ".py",
   "mimetype": "text/x-python",
   "name": "python",
   "nbconvert_exporter": "python",
   "pygments_lexer": "ipython2",
   "version": "2.7.6"
  }
 },
 "nbformat": 4,
 "nbformat_minor": 5
}
