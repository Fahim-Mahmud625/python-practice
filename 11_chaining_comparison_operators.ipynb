{
 "cells": [
  {
   "cell_type": "code",
   "id": "initial_id",
   "metadata": {
    "collapsed": true,
    "ExecuteTime": {
     "end_time": "2024-12-19T14:16:00.666065Z",
     "start_time": "2024-12-19T14:16:00.656092Z"
    }
   },
   "source": "1 < 2",
   "outputs": [
    {
     "data": {
      "text/plain": [
       "True"
      ]
     },
     "execution_count": 1,
     "metadata": {},
     "output_type": "execute_result"
    }
   ],
   "execution_count": 1
  },
  {
   "metadata": {
    "ExecuteTime": {
     "end_time": "2024-12-19T14:16:04.563163Z",
     "start_time": "2024-12-19T14:16:04.555962Z"
    }
   },
   "cell_type": "code",
   "source": "2 < 3",
   "id": "fa12dde91e390035",
   "outputs": [
    {
     "data": {
      "text/plain": [
       "True"
      ]
     },
     "execution_count": 2,
     "metadata": {},
     "output_type": "execute_result"
    }
   ],
   "execution_count": 2
  },
  {
   "metadata": {
    "ExecuteTime": {
     "end_time": "2024-12-19T14:16:20.206608Z",
     "start_time": "2024-12-19T14:16:20.198818Z"
    }
   },
   "cell_type": "code",
   "source": "1 < 2 < 3",
   "id": "71ff2952db04ce28",
   "outputs": [
    {
     "data": {
      "text/plain": [
       "True"
      ]
     },
     "execution_count": 3,
     "metadata": {},
     "output_type": "execute_result"
    }
   ],
   "execution_count": 3
  },
  {
   "metadata": {
    "ExecuteTime": {
     "end_time": "2024-12-19T14:16:48.801496Z",
     "start_time": "2024-12-19T14:16:48.793989Z"
    }
   },
   "cell_type": "code",
   "source": "1 < 2 > 3",
   "id": "4d376161efe06a9b",
   "outputs": [
    {
     "data": {
      "text/plain": [
       "False"
      ]
     },
     "execution_count": 4,
     "metadata": {},
     "output_type": "execute_result"
    }
   ],
   "execution_count": 4
  },
  {
   "metadata": {
    "ExecuteTime": {
     "end_time": "2024-12-19T14:17:08.754500Z",
     "start_time": "2024-12-19T14:17:08.749314Z"
    }
   },
   "cell_type": "code",
   "source": "1 < 2 and 2 < 3",
   "id": "68ff5847747a129",
   "outputs": [
    {
     "data": {
      "text/plain": [
       "True"
      ]
     },
     "execution_count": 6,
     "metadata": {},
     "output_type": "execute_result"
    }
   ],
   "execution_count": 6
  },
  {
   "metadata": {
    "ExecuteTime": {
     "end_time": "2024-12-19T14:17:40.991912Z",
     "start_time": "2024-12-19T14:17:40.984436Z"
    }
   },
   "cell_type": "code",
   "source": "'h' == 'h' and 2 == 2",
   "id": "b0ba3aae01c67b9",
   "outputs": [
    {
     "data": {
      "text/plain": [
       "True"
      ]
     },
     "execution_count": 7,
     "metadata": {},
     "output_type": "execute_result"
    }
   ],
   "execution_count": 7
  },
  {
   "metadata": {
    "ExecuteTime": {
     "end_time": "2024-12-19T14:18:41.021960Z",
     "start_time": "2024-12-19T14:18:41.016938Z"
    }
   },
   "cell_type": "code",
   "source": "100 == 1 or 2 == 2",
   "id": "9ccdf4688e9a90bc",
   "outputs": [
    {
     "data": {
      "text/plain": [
       "True"
      ]
     },
     "execution_count": 9,
     "metadata": {},
     "output_type": "execute_result"
    }
   ],
   "execution_count": 9
  },
  {
   "metadata": {
    "ExecuteTime": {
     "end_time": "2024-12-19T14:18:59.821654Z",
     "start_time": "2024-12-19T14:18:59.814546Z"
    }
   },
   "cell_type": "code",
   "source": "100 == 1 or 2 == 2000",
   "id": "b36619d18884e6b2",
   "outputs": [
    {
     "data": {
      "text/plain": [
       "False"
      ]
     },
     "execution_count": 10,
     "metadata": {},
     "output_type": "execute_result"
    }
   ],
   "execution_count": 10
  },
  {
   "metadata": {
    "ExecuteTime": {
     "end_time": "2024-12-19T14:20:49.776121Z",
     "start_time": "2024-12-19T14:20:49.770083Z"
    }
   },
   "cell_type": "code",
   "source": "1 == 1",
   "id": "5c4980c45882fe48",
   "outputs": [
    {
     "data": {
      "text/plain": [
       "True"
      ]
     },
     "execution_count": 11,
     "metadata": {},
     "output_type": "execute_result"
    }
   ],
   "execution_count": 11
  },
  {
   "metadata": {
    "ExecuteTime": {
     "end_time": "2024-12-19T14:21:00.406933Z",
     "start_time": "2024-12-19T14:21:00.398215Z"
    }
   },
   "cell_type": "code",
   "source": "not(1 == 1)",
   "id": "bdd40f5d1628fb43",
   "outputs": [
    {
     "data": {
      "text/plain": [
       "False"
      ]
     },
     "execution_count": 12,
     "metadata": {},
     "output_type": "execute_result"
    }
   ],
   "execution_count": 12
  },
  {
   "metadata": {
    "ExecuteTime": {
     "end_time": "2024-12-19T14:21:08.719945Z",
     "start_time": "2024-12-19T14:21:08.714213Z"
    }
   },
   "cell_type": "code",
   "source": "not 1 == 1",
   "id": "57777172a39151dd",
   "outputs": [
    {
     "data": {
      "text/plain": [
       "False"
      ]
     },
     "execution_count": 13,
     "metadata": {},
     "output_type": "execute_result"
    }
   ],
   "execution_count": 13
  },
  {
   "metadata": {
    "ExecuteTime": {
     "end_time": "2024-12-19T14:21:24.358264Z",
     "start_time": "2024-12-19T14:21:24.351347Z"
    }
   },
   "cell_type": "code",
   "source": "400 > 500",
   "id": "ec9d94c10e8eddb8",
   "outputs": [
    {
     "data": {
      "text/plain": [
       "False"
      ]
     },
     "execution_count": 14,
     "metadata": {},
     "output_type": "execute_result"
    }
   ],
   "execution_count": 14
  },
  {
   "metadata": {
    "ExecuteTime": {
     "end_time": "2024-12-19T14:21:31.211131Z",
     "start_time": "2024-12-19T14:21:31.204258Z"
    }
   },
   "cell_type": "code",
   "source": "not 400 > 500",
   "id": "52df4fb6640c1f24",
   "outputs": [
    {
     "data": {
      "text/plain": [
       "True"
      ]
     },
     "execution_count": 15,
     "metadata": {},
     "output_type": "execute_result"
    }
   ],
   "execution_count": 15
  },
  {
   "metadata": {},
   "cell_type": "code",
   "outputs": [],
   "execution_count": null,
   "source": "",
   "id": "22dd368290b0bd6e"
  }
 ],
 "metadata": {
  "kernelspec": {
   "display_name": "Python 3",
   "language": "python",
   "name": "python3"
  },
  "language_info": {
   "codemirror_mode": {
    "name": "ipython",
    "version": 2
   },
   "file_extension": ".py",
   "mimetype": "text/x-python",
   "name": "python",
   "nbconvert_exporter": "python",
   "pygments_lexer": "ipython2",
   "version": "2.7.6"
  }
 },
 "nbformat": 4,
 "nbformat_minor": 5
}
