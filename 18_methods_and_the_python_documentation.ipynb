{
 "cells": [
  {
   "cell_type": "code",
   "id": "initial_id",
   "metadata": {
    "collapsed": true,
    "ExecuteTime": {
     "end_time": "2024-12-29T14:56:22.884404Z",
     "start_time": "2024-12-29T14:56:22.878833Z"
    }
   },
   "source": [
    "from random import shuffle\n",
    "\n",
    "mylist = [1,2,3]"
   ],
   "outputs": [],
   "execution_count": 1
  },
  {
   "metadata": {
    "ExecuteTime": {
     "end_time": "2024-12-29T14:56:29.779583Z",
     "start_time": "2024-12-29T14:56:29.774668Z"
    }
   },
   "cell_type": "code",
   "source": "mylist.append(4)",
   "id": "ee407da4cc3b0488",
   "outputs": [],
   "execution_count": 2
  },
  {
   "metadata": {
    "ExecuteTime": {
     "end_time": "2024-12-29T14:56:37.391032Z",
     "start_time": "2024-12-29T14:56:37.383077Z"
    }
   },
   "cell_type": "code",
   "source": "mylist",
   "id": "36229fec0c3e3643",
   "outputs": [
    {
     "data": {
      "text/plain": [
       "[1, 2, 3, 4]"
      ]
     },
     "execution_count": 3,
     "metadata": {},
     "output_type": "execute_result"
    }
   ],
   "execution_count": 3
  },
  {
   "metadata": {
    "ExecuteTime": {
     "end_time": "2024-12-29T14:56:47.609730Z",
     "start_time": "2024-12-29T14:56:47.604201Z"
    }
   },
   "cell_type": "code",
   "source": "mylist.pop()",
   "id": "9cedd2b54e2fc53d",
   "outputs": [
    {
     "data": {
      "text/plain": [
       "4"
      ]
     },
     "execution_count": 4,
     "metadata": {},
     "output_type": "execute_result"
    }
   ],
   "execution_count": 4
  },
  {
   "metadata": {
    "ExecuteTime": {
     "end_time": "2024-12-29T14:56:50.731923Z",
     "start_time": "2024-12-29T14:56:50.725721Z"
    }
   },
   "cell_type": "code",
   "source": "mylist",
   "id": "d409c50135d0beee",
   "outputs": [
    {
     "data": {
      "text/plain": [
       "[1, 2, 3]"
      ]
     },
     "execution_count": 5,
     "metadata": {},
     "output_type": "execute_result"
    }
   ],
   "execution_count": 5
  },
  {
   "metadata": {
    "ExecuteTime": {
     "end_time": "2024-12-29T14:58:26.079460Z",
     "start_time": "2024-12-29T14:58:26.073378Z"
    }
   },
   "cell_type": "code",
   "source": "help(mylist.insert)",
   "id": "7b7908a78c49a9eb",
   "outputs": [
    {
     "name": "stdout",
     "output_type": "stream",
     "text": [
      "Help on built-in function insert:\n",
      "\n",
      "insert(index, object, /) method of builtins.list instance\n",
      "    Insert object before index.\n",
      "\n"
     ]
    }
   ],
   "execution_count": 6
  },
  {
   "metadata": {
    "ExecuteTime": {
     "end_time": "2024-12-29T14:58:44.223198Z",
     "start_time": "2024-12-29T14:58:44.219365Z"
    }
   },
   "cell_type": "code",
   "source": "# docs.python.org",
   "id": "2dc33a6477aeceac",
   "outputs": [],
   "execution_count": 7
  },
  {
   "metadata": {
    "ExecuteTime": {
     "end_time": "2024-12-29T15:03:19.895124Z",
     "start_time": "2024-12-29T15:03:19.890182Z"
    }
   },
   "cell_type": "code",
   "source": [
    "newlist = []\n",
    "for i in range(0,100):\n",
    "    newlist.append(i)"
   ],
   "id": "21ce087f698c6486",
   "outputs": [],
   "execution_count": 8
  },
  {
   "metadata": {
    "ExecuteTime": {
     "end_time": "2024-12-29T15:03:29.905672Z",
     "start_time": "2024-12-29T15:03:29.899236Z"
    }
   },
   "cell_type": "code",
   "source": "newlist[0:10]",
   "id": "a16869e23c044ca",
   "outputs": [
    {
     "data": {
      "text/plain": [
       "[0, 1, 2, 3, 4, 5, 6, 7, 8, 9]"
      ]
     },
     "execution_count": 9,
     "metadata": {},
     "output_type": "execute_result"
    }
   ],
   "execution_count": 9
  },
  {
   "metadata": {
    "ExecuteTime": {
     "end_time": "2024-12-29T15:04:03.691129Z",
     "start_time": "2024-12-29T15:04:03.684221Z"
    }
   },
   "cell_type": "code",
   "source": "newlist[25:75:3]",
   "id": "5f074159adcece72",
   "outputs": [
    {
     "data": {
      "text/plain": [
       "[25, 28, 31, 34, 37, 40, 43, 46, 49, 52, 55, 58, 61, 64, 67, 70, 73]"
      ]
     },
     "execution_count": 12,
     "metadata": {},
     "output_type": "execute_result"
    }
   ],
   "execution_count": 12
  },
  {
   "metadata": {
    "ExecuteTime": {
     "end_time": "2024-12-29T15:07:09.244073Z",
     "start_time": "2024-12-29T15:07:09.239192Z"
    }
   },
   "cell_type": "code",
   "source": "from random import shuffle",
   "id": "17e14d3860a3d9b3",
   "outputs": [],
   "execution_count": 19
  },
  {
   "metadata": {
    "ExecuteTime": {
     "end_time": "2024-12-29T15:08:00.059606Z",
     "start_time": "2024-12-29T15:08:00.055266Z"
    }
   },
   "cell_type": "code",
   "source": "x = newlist[25:30]",
   "id": "136abd09fe734687",
   "outputs": [],
   "execution_count": 22
  },
  {
   "metadata": {
    "ExecuteTime": {
     "end_time": "2024-12-29T15:08:01.520263Z",
     "start_time": "2024-12-29T15:08:01.514260Z"
    }
   },
   "cell_type": "code",
   "source": "x",
   "id": "41b8dee3830bed70",
   "outputs": [
    {
     "data": {
      "text/plain": [
       "[25, 26, 27, 28, 29]"
      ]
     },
     "execution_count": 23,
     "metadata": {},
     "output_type": "execute_result"
    }
   ],
   "execution_count": 23
  },
  {
   "metadata": {
    "ExecuteTime": {
     "end_time": "2024-12-29T15:08:05.907452Z",
     "start_time": "2024-12-29T15:08:05.903035Z"
    }
   },
   "cell_type": "code",
   "source": "shuffle(x)",
   "id": "3ce65efcd3d8106f",
   "outputs": [],
   "execution_count": 24
  },
  {
   "metadata": {
    "ExecuteTime": {
     "end_time": "2024-12-29T15:08:07.952605Z",
     "start_time": "2024-12-29T15:08:07.947621Z"
    }
   },
   "cell_type": "code",
   "source": "x",
   "id": "a90ee6e283ef0f12",
   "outputs": [
    {
     "data": {
      "text/plain": [
       "[25, 29, 28, 26, 27]"
      ]
     },
     "execution_count": 25,
     "metadata": {},
     "output_type": "execute_result"
    }
   ],
   "execution_count": 25
  },
  {
   "metadata": {},
   "cell_type": "code",
   "outputs": [],
   "execution_count": null,
   "source": "",
   "id": "39e4b54f3797634a"
  }
 ],
 "metadata": {
  "kernelspec": {
   "display_name": "Python 3",
   "language": "python",
   "name": "python3"
  },
  "language_info": {
   "codemirror_mode": {
    "name": "ipython",
    "version": 2
   },
   "file_extension": ".py",
   "mimetype": "text/x-python",
   "name": "python",
   "nbconvert_exporter": "python",
   "pygments_lexer": "ipython2",
   "version": "2.7.6"
  }
 },
 "nbformat": 4,
 "nbformat_minor": 5
}
