{
 "cells": [
  {
   "cell_type": "code",
   "id": "initial_id",
   "metadata": {
    "collapsed": true,
    "ExecuteTime": {
     "end_time": "2024-12-12T13:36:16.595107Z",
     "start_time": "2024-12-12T13:36:16.588468Z"
    }
   },
   "source": "t = (1,2,3)",
   "outputs": [],
   "execution_count": 1
  },
  {
   "metadata": {
    "ExecuteTime": {
     "end_time": "2024-12-12T13:36:23.944233Z",
     "start_time": "2024-12-12T13:36:23.939371Z"
    }
   },
   "cell_type": "code",
   "source": "mylist = [1,2,3]",
   "id": "9c12538ef0b3326d",
   "outputs": [],
   "execution_count": 2
  },
  {
   "metadata": {
    "ExecuteTime": {
     "end_time": "2024-12-12T13:36:27.888249Z",
     "start_time": "2024-12-12T13:36:27.880315Z"
    }
   },
   "cell_type": "code",
   "source": "type(t)",
   "id": "9887809dd10c9a4c",
   "outputs": [
    {
     "data": {
      "text/plain": [
       "tuple"
      ]
     },
     "execution_count": 3,
     "metadata": {},
     "output_type": "execute_result"
    }
   ],
   "execution_count": 3
  },
  {
   "metadata": {
    "ExecuteTime": {
     "end_time": "2024-12-12T13:36:32.402543Z",
     "start_time": "2024-12-12T13:36:32.395054Z"
    }
   },
   "cell_type": "code",
   "source": "type(mylist)",
   "id": "6ec48f92f13a1547",
   "outputs": [
    {
     "data": {
      "text/plain": [
       "list"
      ]
     },
     "execution_count": 4,
     "metadata": {},
     "output_type": "execute_result"
    }
   ],
   "execution_count": 4
  },
  {
   "metadata": {
    "ExecuteTime": {
     "end_time": "2024-12-12T13:36:39.790205Z",
     "start_time": "2024-12-12T13:36:39.783077Z"
    }
   },
   "cell_type": "code",
   "source": "len(t)",
   "id": "ab31aa91089fde78",
   "outputs": [
    {
     "data": {
      "text/plain": [
       "3"
      ]
     },
     "execution_count": 5,
     "metadata": {},
     "output_type": "execute_result"
    }
   ],
   "execution_count": 5
  },
  {
   "metadata": {
    "ExecuteTime": {
     "end_time": "2024-12-12T13:36:49.899686Z",
     "start_time": "2024-12-12T13:36:49.894493Z"
    }
   },
   "cell_type": "code",
   "source": "t = ('one', 2)",
   "id": "25b78a2c4fd22c9b",
   "outputs": [],
   "execution_count": 6
  },
  {
   "metadata": {
    "ExecuteTime": {
     "end_time": "2024-12-12T13:36:54.894868Z",
     "start_time": "2024-12-12T13:36:54.889516Z"
    }
   },
   "cell_type": "code",
   "source": "t[0]",
   "id": "a59aedb5d73f562b",
   "outputs": [
    {
     "data": {
      "text/plain": [
       "'one'"
      ]
     },
     "execution_count": 7,
     "metadata": {},
     "output_type": "execute_result"
    }
   ],
   "execution_count": 7
  },
  {
   "metadata": {
    "ExecuteTime": {
     "end_time": "2024-12-12T13:37:02.091614Z",
     "start_time": "2024-12-12T13:37:02.086262Z"
    }
   },
   "cell_type": "code",
   "source": "t[-1]",
   "id": "43fb866a12899c9e",
   "outputs": [
    {
     "data": {
      "text/plain": [
       "2"
      ]
     },
     "execution_count": 8,
     "metadata": {},
     "output_type": "execute_result"
    }
   ],
   "execution_count": 8
  },
  {
   "metadata": {
    "ExecuteTime": {
     "end_time": "2024-12-12T13:37:25.679439Z",
     "start_time": "2024-12-12T13:37:25.674614Z"
    }
   },
   "cell_type": "code",
   "source": "t = ('a', 'a', 'b')",
   "id": "100e01885d46296c",
   "outputs": [],
   "execution_count": 9
  },
  {
   "metadata": {
    "ExecuteTime": {
     "end_time": "2024-12-12T13:37:42.142415Z",
     "start_time": "2024-12-12T13:37:42.136403Z"
    }
   },
   "cell_type": "code",
   "source": "t.count('a')",
   "id": "30da4b3185a6f3e1",
   "outputs": [
    {
     "data": {
      "text/plain": [
       "2"
      ]
     },
     "execution_count": 11,
     "metadata": {},
     "output_type": "execute_result"
    }
   ],
   "execution_count": 11
  },
  {
   "metadata": {
    "ExecuteTime": {
     "end_time": "2024-12-12T13:37:59.593915Z",
     "start_time": "2024-12-12T13:37:59.587194Z"
    }
   },
   "cell_type": "code",
   "source": "t.index('a')",
   "id": "4d352afd46b5f229",
   "outputs": [
    {
     "data": {
      "text/plain": [
       "0"
      ]
     },
     "execution_count": 12,
     "metadata": {},
     "output_type": "execute_result"
    }
   ],
   "execution_count": 12
  },
  {
   "metadata": {
    "ExecuteTime": {
     "end_time": "2024-12-12T13:38:51.394588Z",
     "start_time": "2024-12-12T13:38:51.389747Z"
    }
   },
   "cell_type": "code",
   "source": "# immutable !",
   "id": "cd3e548c31a6d36b",
   "outputs": [],
   "execution_count": 13
  }
 ],
 "metadata": {
  "kernelspec": {
   "display_name": "Python 3",
   "language": "python",
   "name": "python3"
  },
  "language_info": {
   "codemirror_mode": {
    "name": "ipython",
    "version": 2
   },
   "file_extension": ".py",
   "mimetype": "text/x-python",
   "name": "python",
   "nbconvert_exporter": "python",
   "pygments_lexer": "ipython2",
   "version": "2.7.6"
  }
 },
 "nbformat": 4,
 "nbformat_minor": 5
}
