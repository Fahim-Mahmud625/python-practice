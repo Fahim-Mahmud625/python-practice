{
 "cells": [
  {
   "cell_type": "code",
   "id": "initial_id",
   "metadata": {
    "collapsed": true,
    "ExecuteTime": {
     "end_time": "2025-01-03T14:11:58.259126Z",
     "start_time": "2025-01-03T14:11:58.251460Z"
    }
   },
   "source": [
    "def even_checker(num):\n",
    "    if num % 2 == 0:\n",
    "        print(f'{num} is even')\n",
    "    else:\n",
    "        print(f'{num} is odd')"
   ],
   "outputs": [],
   "execution_count": 1
  },
  {
   "metadata": {
    "ExecuteTime": {
     "end_time": "2025-01-03T14:12:09.730933Z",
     "start_time": "2025-01-03T14:12:09.724864Z"
    }
   },
   "cell_type": "code",
   "source": "even_checker(10)",
   "id": "2e1cead82fb76779",
   "outputs": [
    {
     "name": "stdout",
     "output_type": "stream",
     "text": [
      "10 is even\n"
     ]
    }
   ],
   "execution_count": 2
  },
  {
   "metadata": {
    "ExecuteTime": {
     "end_time": "2025-01-03T14:12:15.470469Z",
     "start_time": "2025-01-03T14:12:15.465739Z"
    }
   },
   "cell_type": "code",
   "source": "even_checker(73)",
   "id": "eff33531f6ab94d4",
   "outputs": [
    {
     "name": "stdout",
     "output_type": "stream",
     "text": [
      "73 is odd\n"
     ]
    }
   ],
   "execution_count": 3
  },
  {
   "metadata": {
    "ExecuteTime": {
     "end_time": "2025-01-03T14:15:29.384042Z",
     "start_time": "2025-01-03T14:15:29.379360Z"
    }
   },
   "cell_type": "code",
   "source": "# Return true if the number is even inside a list",
   "id": "f90e7a1594340c6b",
   "outputs": [],
   "execution_count": 4
  },
  {
   "metadata": {
    "ExecuteTime": {
     "end_time": "2025-01-03T14:16:01.014111Z",
     "start_time": "2025-01-03T14:16:01.009727Z"
    }
   },
   "cell_type": "code",
   "source": [
    "def even_check(num):\n",
    "    return num % 2 == 0"
   ],
   "id": "c6a495c5b09f2b02",
   "outputs": [],
   "execution_count": 5
  },
  {
   "metadata": {
    "ExecuteTime": {
     "end_time": "2025-01-03T14:18:30.478374Z",
     "start_time": "2025-01-03T14:18:30.473544Z"
    }
   },
   "cell_type": "code",
   "source": [
    "my_list = [1, 2, 3, 4, 5, 6, 7, 8, 9]\n",
    "for i in my_list:\n",
    "    print(even_check(i))"
   ],
   "id": "718aa8295b5e283e",
   "outputs": [
    {
     "name": "stdout",
     "output_type": "stream",
     "text": [
      "False\n",
      "True\n",
      "False\n",
      "True\n",
      "False\n",
      "True\n",
      "False\n",
      "True\n",
      "False\n"
     ]
    }
   ],
   "execution_count": 7
  },
  {
   "metadata": {
    "ExecuteTime": {
     "end_time": "2025-01-03T14:19:39.969226Z",
     "start_time": "2025-01-03T14:19:39.964968Z"
    }
   },
   "cell_type": "code",
   "source": "# Return true if any number is even inside a list",
   "id": "c8e2756166cf04c",
   "outputs": [],
   "execution_count": 8
  },
  {
   "metadata": {
    "ExecuteTime": {
     "end_time": "2025-01-03T14:24:10.802319Z",
     "start_time": "2025-01-03T14:24:10.795997Z"
    }
   },
   "cell_type": "code",
   "source": [
    "def even_check_list(num_list):\n",
    "    for num in num_list:\n",
    "        if num % 2 == 0:\n",
    "            return True\n",
    "        else:\n",
    "            pass\n",
    "    return False"
   ],
   "id": "1345dad907a4fe5f",
   "outputs": [],
   "execution_count": 13
  },
  {
   "metadata": {
    "ExecuteTime": {
     "end_time": "2025-01-03T14:24:11.670461Z",
     "start_time": "2025-01-03T14:24:11.666109Z"
    }
   },
   "cell_type": "code",
   "source": "my_list = [1,3,7,5,8]",
   "id": "186fe8e3264f6f",
   "outputs": [],
   "execution_count": 14
  },
  {
   "metadata": {
    "ExecuteTime": {
     "end_time": "2025-01-03T14:24:12.351780Z",
     "start_time": "2025-01-03T14:24:12.345026Z"
    }
   },
   "cell_type": "code",
   "source": "even_check_list(my_list)",
   "id": "5f0f04ab528afae1",
   "outputs": [
    {
     "data": {
      "text/plain": [
       "True"
      ]
     },
     "execution_count": 15,
     "metadata": {},
     "output_type": "execute_result"
    }
   ],
   "execution_count": 15
  },
  {
   "metadata": {
    "ExecuteTime": {
     "end_time": "2025-01-03T14:24:21.190663Z",
     "start_time": "2025-01-03T14:24:21.184817Z"
    }
   },
   "cell_type": "code",
   "source": "even_check_list([1,3,5])",
   "id": "684ff1b0da720506",
   "outputs": [
    {
     "data": {
      "text/plain": [
       "False"
      ]
     },
     "execution_count": 16,
     "metadata": {},
     "output_type": "execute_result"
    }
   ],
   "execution_count": 16
  },
  {
   "metadata": {
    "ExecuteTime": {
     "end_time": "2025-01-03T14:25:31.694897Z",
     "start_time": "2025-01-03T14:25:31.689835Z"
    }
   },
   "cell_type": "code",
   "source": "# Looping through all the numbers, if the loop doesn't get broken, it will execute the last return.",
   "id": "1d98b478ad3c75e8",
   "outputs": [],
   "execution_count": 17
  },
  {
   "metadata": {
    "ExecuteTime": {
     "end_time": "2025-01-03T14:27:10.094670Z",
     "start_time": "2025-01-03T14:27:10.090150Z"
    }
   },
   "cell_type": "code",
   "source": "# Else it would just execute the previous return and end the loop!",
   "id": "2edb92f07f17e954",
   "outputs": [],
   "execution_count": 19
  },
  {
   "metadata": {
    "ExecuteTime": {
     "end_time": "2025-01-03T14:32:01.185640Z",
     "start_time": "2025-01-03T14:32:01.180342Z"
    }
   },
   "cell_type": "code",
   "source": [
    "def even_check_list(num_list): # return all the even numbers.\n",
    "    even_nums = []\n",
    "    for num in num_list:\n",
    "        if num % 2 == 0:\n",
    "            even_nums.append(num)\n",
    "        else:\n",
    "            pass\n",
    "    return even_nums"
   ],
   "id": "6f37812e051287e2",
   "outputs": [],
   "execution_count": 26
  },
  {
   "metadata": {
    "ExecuteTime": {
     "end_time": "2025-01-03T14:32:01.725119Z",
     "start_time": "2025-01-03T14:32:01.718413Z"
    }
   },
   "cell_type": "code",
   "source": "even_check_list([1,3,5])",
   "id": "16a84512141a967e",
   "outputs": [
    {
     "data": {
      "text/plain": [
       "[]"
      ]
     },
     "execution_count": 27,
     "metadata": {},
     "output_type": "execute_result"
    }
   ],
   "execution_count": 27
  },
  {
   "metadata": {
    "ExecuteTime": {
     "end_time": "2025-01-03T14:32:02.791613Z",
     "start_time": "2025-01-03T14:32:02.784432Z"
    }
   },
   "cell_type": "code",
   "source": "even_check_list([1,2,3,4,5,6,7,8,9])",
   "id": "3d5c322995d43ac7",
   "outputs": [
    {
     "data": {
      "text/plain": [
       "[2, 4, 6, 8]"
      ]
     },
     "execution_count": 28,
     "metadata": {},
     "output_type": "execute_result"
    }
   ],
   "execution_count": 28
  }
 ],
 "metadata": {
  "kernelspec": {
   "display_name": "Python 3",
   "language": "python",
   "name": "python3"
  },
  "language_info": {
   "codemirror_mode": {
    "name": "ipython",
    "version": 2
   },
   "file_extension": ".py",
   "mimetype": "text/x-python",
   "name": "python",
   "nbconvert_exporter": "python",
   "pygments_lexer": "ipython2",
   "version": "2.7.6"
  }
 },
 "nbformat": 4,
 "nbformat_minor": 5
}
